{
  "nbformat": 4,
  "nbformat_minor": 0,
  "metadata": {
    "colab": {
      "provenance": []
    },
    "kernelspec": {
      "name": "python3",
      "display_name": "Python 3"
    },
    "language_info": {
      "name": "python"
    }
  },
  "cells": [
    {
      "cell_type": "code",
      "execution_count": 1,
      "metadata": {
        "colab": {
          "base_uri": "https://localhost:8080/"
        },
        "id": "V-DqCn15pGAp",
        "outputId": "bded777d-df7b-4c0f-c796-b305c52643fa"
      },
      "outputs": [
        {
          "output_type": "stream",
          "name": "stdout",
          "text": [
            "Looking in indexes: https://pypi.org/simple, https://us-python.pkg.dev/colab-wheels/public/simple/\n",
            "Collecting cryptography\n",
            "  Downloading cryptography-39.0.2-cp36-abi3-manylinux_2_28_x86_64.whl (4.2 MB)\n",
            "\u001b[2K     \u001b[90m━━━━━━━━━━━━━━━━━━━━━━━━━━━━━━━━━━━━━━━━\u001b[0m \u001b[32m4.2/4.2 MB\u001b[0m \u001b[31m21.3 MB/s\u001b[0m eta \u001b[36m0:00:00\u001b[0m\n",
            "\u001b[?25hRequirement already satisfied: cffi>=1.12 in /usr/local/lib/python3.9/dist-packages (from cryptography) (1.15.1)\n",
            "Requirement already satisfied: pycparser in /usr/local/lib/python3.9/dist-packages (from cffi>=1.12->cryptography) (2.21)\n",
            "Installing collected packages: cryptography\n",
            "Successfully installed cryptography-39.0.2\n"
          ]
        }
      ],
      "source": [
        "!pip install cryptography"
      ]
    },
    {
      "cell_type": "code",
      "source": [
        "import base64\n",
        "import os\n",
        "from cryptography.fernet import Fernet\n",
        "from cryptography.hazmat.primitives import hashes\n",
        "from cryptography.hazmat.primitives.kdf.pbkdf2 import PBKDF2HMAC\n",
        "password = b\"password\"\n",
        "salt = os.urandom(16)\n",
        "kdf = PBKDF2HMAC(\n",
        "    algorithm=hashes.SHA256(),\n",
        "    length=32,\n",
        "    salt=salt,\n",
        "    iterations=480000,\n",
        ")\n",
        "key = base64.urlsafe_b64encode(kdf.derive(password))\n",
        "f = Fernet(key)\n",
        "token = f.encrypt(b\"Secret message!\")\n",
        "token\n",
        "b'...'\n",
        "f.decrypt(token)\n",
        "b'Secret message!'"
      ],
      "metadata": {
        "colab": {
          "base_uri": "https://localhost:8080/"
        },
        "id": "XeyOFNxqpNep",
        "outputId": "dad07ad3-b6ce-4eb9-ac53-42009dbc4f12"
      },
      "execution_count": 14,
      "outputs": [
        {
          "output_type": "execute_result",
          "data": {
            "text/plain": [
              "b'Secret message!'"
            ]
          },
          "metadata": {},
          "execution_count": 14
        }
      ]
    },
    {
      "cell_type": "code",
      "source": [
        "pwd = b\"1234ABCD\"\n",
        "cypher_text = b'gAAAAABj99qT2ITPcMEcbp_rJJQPUsACZbCShpEMO0xOt9eVNjx_rm9axn3A8VRr8xFu_2kRnn8GnKuHsvATO77QyWmikdXrla5mhq0qKJGBFUSLAPY4de8qgmqcgahaNV-l9BGqw6WT'\n",
        "\n",
        "for each_salt in range(256):\n",
        "    kdf = PBKDF2HMAC(algorithm=hashes.SHA256(), length=32, salt= bytes([each_salt]), iterations=480000)\n",
        "    key = base64.urlsafe_b64encode(kdf.derive(pwd))\n",
        "    f = Fernet(key)\n",
        "    try:\n",
        "        plain_text = f.decrypt(cypher_text)\n",
        "    except:\n",
        "        print(f\"Decryption failed!: {key.decode()}\")\n",
        "    else:\n",
        "        print(f\"Decryption successful! {key.decode()}\")\n",
        "        print(f\"Decrypted message for the given key {key.decode()}: {plain_text.decode()}\")\n",
        "        break\n",
        "    if each_salt == 255:\n",
        "      print(\"Failed to decrypt with all possible keys.\")\n",
        "        "
      ],
      "metadata": {
        "colab": {
          "base_uri": "https://localhost:8080/"
        },
        "id": "sewA6Cr4pSmf",
        "outputId": "9ca0a7e1-7ae2-44e3-9e50-49b5ed9a0161"
      },
      "execution_count": 17,
      "outputs": [
        {
          "output_type": "stream",
          "name": "stdout",
          "text": [
            "Decryption failed!: wuPPH_gAniNglArbanGt-gx-A9aNO1jzgJIQiLJ3Nqw=\n",
            "Decryption failed!: KMusxp9g3-Wh6aNDUn62OZTNxO-kcVDrnjsQyMayUFc=\n",
            "Decryption failed!: 4qlwuLASccNBplCANp9j8TBSAIAuejt4morW6Y0vZFk=\n",
            "Decryption failed!: TeyfW2mcuxIhQqxOkC-fwJh9riIbdUCVvoANUn2Y908=\n",
            "Decryption failed!: ZF0Zysm9T5c8MlBOIiigo5peRhdO0pglnL0tsizy2go=\n",
            "Decryption failed!: dUBUhgYi116zCpFVGS93O95fWzj_MrB13pHqZSMPd-Q=\n",
            "Decryption successful! dm_JtaT2Et9b10y_MNdGQb9UvcUFuNygs6BGl7xtjb8=\n",
            "Decrypted message for the given key dm_JtaT2Et9b10y_MNdGQb9UvcUFuNygs6BGl7xtjb8=: Dr. Choi's new blockchain engineering course!\n"
          ]
        }
      ]
    },
    {
      "cell_type": "code",
      "source": [],
      "metadata": {
        "id": "O2PvJclppZBV"
      },
      "execution_count": null,
      "outputs": []
    }
  ]
}
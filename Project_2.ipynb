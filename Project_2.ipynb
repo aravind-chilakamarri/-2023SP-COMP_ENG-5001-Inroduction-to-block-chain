{
  "nbformat": 4,
  "nbformat_minor": 0,
  "metadata": {
    "colab": {
      "provenance": []
    },
    "kernelspec": {
      "name": "python3",
      "display_name": "Python 3"
    },
    "language_info": {
      "name": "python"
    }
  },
  "cells": [
    {
      "cell_type": "markdown",
      "source": [
        "IMPLEMENTATION OF LINKED LIST"
      ],
      "metadata": {
        "id": "8k0sje9YUc8d"
      }
    },
    {
      "cell_type": "code",
      "execution_count": 42,
      "metadata": {
        "id": "XZcBEEXQFuvG"
      },
      "outputs": [],
      "source": [
        "class LinkedList:\n",
        "    def __init__(self):\n",
        "        self.head = None\n",
        "\n",
        "    def __iter__(self):\n",
        "        node = self.head\n",
        "        while node is not None:\n",
        "            yield node\n",
        "            node = node.next\n",
        "\n",
        "    def __repr__(self):\n",
        "        nodes = []\n",
        "        for node in self:\n",
        "            nodes.append(node.val)\n",
        "        return \" -> \".join(nodes)\n",
        "\n",
        "    def add_to_tail(self, node):\n",
        "        if self.head == None:\n",
        "            self.head = node\n",
        "            return\n",
        "        for current_node in self:\n",
        "            pass\n",
        "        current_node.set_next(node)\n",
        "\n",
        "    def remove_from_head(self):\n",
        "        if self.head == None:\n",
        "            return None\n",
        "        temp = self.head\n",
        "        self.head = self.head.next\n",
        "        return temp\n",
        "\n",
        "    def add_to_head(self,node):\n",
        "        temp = self.head\n",
        "        self.head = node\n",
        "        node.next = temp\n",
        "        return\n",
        "\n",
        "    def insert_after(self, node, val):\n",
        "        temp = self.head\n",
        "        while temp is not None:\n",
        "          if temp.val == val:\n",
        "            node.next = temp.next\n",
        "            temp.next = node\n",
        "            return \n",
        "          temp = temp.next\n",
        "    \n",
        "    def remove_from_tail(self):\n",
        "        temp = self.head\n",
        "        while(temp.next is not None):\n",
        "          prev = temp\n",
        "          temp = temp.next\n",
        "        prev.next = None\n",
        "        return temp\n",
        "\n",
        "  \n",
        "\n",
        "class Node:\n",
        "    def __init__(self, val):\n",
        "        self.val = val\n",
        "        self.next = None\n",
        "\n",
        "    def set_next(self, node):\n",
        "        self.next = node\n",
        "\n",
        "    def __repr__(self):\n",
        "        return self.val"
      ]
    },
    {
      "cell_type": "code",
      "source": [
        "linked_list = LinkedList() \n",
        "linked_list.add_to_tail(Node(\"Intro\")) \n",
        "linked_list.add_to_tail(Node(\"Blockchain\")) \n",
        "linked_list.add_to_tail(Node(\"Engineering\")) \n",
        "linked_list.add_to_tail(Node(\"Course\"))\n",
        "print(\"Current Linked List:\", linked_list) \n",
        "linked_list.add_to_head(Node(\"CpE5001\")) \n",
        "print(\"Current Linked List:\", linked_list) \n",
        "linked_list.remove_from_tail() \n",
        "print(\"Current Linked List:\", linked_list) \n",
        "linked_list.insert_after(Node(\"to\"),\"Intro\") \n",
        "print(\"Current Linked List:\", linked_list) "
      ],
      "metadata": {
        "colab": {
          "base_uri": "https://localhost:8080/"
        },
        "id": "6DrAbyR5GHdI",
        "outputId": "e73a9f1c-a51a-459c-f3b4-4719056bd3a6"
      },
      "execution_count": 43,
      "outputs": [
        {
          "output_type": "stream",
          "name": "stdout",
          "text": [
            "Current Linked List: Intro -> Blockchain -> Engineering -> Course\n",
            "Current Linked List: CpE5001 -> Intro -> Blockchain -> Engineering -> Course\n",
            "Current Linked List: CpE5001 -> Intro -> Blockchain -> Engineering\n",
            "Current Linked List: CpE5001 -> Intro -> to -> Blockchain -> Engineering\n"
          ]
        }
      ]
    },
    {
      "cell_type": "code",
      "source": [],
      "metadata": {
        "id": "QI0jSlPbGKIz"
      },
      "execution_count": null,
      "outputs": []
    }
  ]
}
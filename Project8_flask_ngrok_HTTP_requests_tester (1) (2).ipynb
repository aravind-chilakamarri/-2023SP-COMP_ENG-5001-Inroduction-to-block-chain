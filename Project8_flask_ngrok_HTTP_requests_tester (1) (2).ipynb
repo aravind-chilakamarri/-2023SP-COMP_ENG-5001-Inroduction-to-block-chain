{
  "nbformat": 4,
  "nbformat_minor": 0,
  "metadata": {
    "colab": {
      "provenance": []
    },
    "kernelspec": {
      "name": "python3",
      "display_name": "Python 3"
    },
    "language_info": {
      "name": "python"
    }
  },
  "cells": [
    {
      "cell_type": "code",
      "execution_count": null,
      "metadata": {
        "id": "ypGnLd1j01C_"
      },
      "outputs": [],
      "source": [
        "# source: https://www.bogotobogo.com/python/python-REST-API-Http-Requests-for-Humans-with-Flask.php\n",
        "import requests\n",
        "\n",
        "# copy your ngrok URL and use it here\n",
        "url = 'http://dc9f-34-125-38-125.ngrok-free.app'\n",
        "\n",
        "# default behavior of ngrok webpage is to display a warning page\n",
        "# let's bypass it using the following HTTP request header\n",
        "header = {\"ngrok-skip-browser-warning\" : \"1\"}\n"
      ]
    },
    {
      "cell_type": "code",
      "source": [
        "# test get method\n",
        "response = requests.get(url,headers=header)\n",
        "response.json()"
      ],
      "metadata": {
        "colab": {
          "base_uri": "https://localhost:8080/"
        },
        "id": "uICcIvfM7o09",
        "outputId": "6b177048-7c8b-4db6-ebde-0f8bf8d7a630"
      },
      "execution_count": null,
      "outputs": [
        {
          "output_type": "execute_result",
          "data": {
            "text/plain": [
              "{'message': 'Simple ledger webapp is up and running!'}"
            ]
          },
          "metadata": {},
          "execution_count": 29
        }
      ]
    },
    {
      "cell_type": "code",
      "source": [
        "# test get method with quarks URI\n",
        "response = requests.get(url + \"/records\",headers=header)\n",
        "response.json()"
      ],
      "metadata": {
        "colab": {
          "base_uri": "https://localhost:8080/"
        },
        "id": "VEgGAFd42cly",
        "outputId": "4410261c-0a8d-4bd0-e9c6-776fd2c37407"
      },
      "execution_count": null,
      "outputs": [
        {
          "output_type": "execute_result",
          "data": {
            "text/plain": [
              "{'records': [{'balance': 100, 'name': 'Joe'},\n",
              "  {'balance': 200, 'name': 'Bill'},\n",
              "  {'balance': 300, 'name': 'Mary'},\n",
              "  {'balance': 400, 'name': 'Mark'}]}"
            ]
          },
          "metadata": {},
          "execution_count": 31
        }
      ]
    },
    {
      "cell_type": "code",
      "source": [
        "# you can create json object and query data in it\n",
        "jsonObj = response.json()\n",
        "print(jsonObj)\n",
        "print(\"=======================\")\n",
        "print(jsonObj['records'][0]['name'])\n",
        "print(\"=======================\")\n",
        "print(jsonObj['records'][1]['balance'])"
      ],
      "metadata": {
        "colab": {
          "base_uri": "https://localhost:8080/"
        },
        "id": "-lrMa0CV2ppU",
        "outputId": "9663ce78-0b71-4014-903c-f12fd99fc974"
      },
      "execution_count": null,
      "outputs": [
        {
          "output_type": "stream",
          "name": "stdout",
          "text": [
            "{'records': [{'balance': 100, 'name': 'Joe'}, {'balance': 200, 'name': 'Bill'}, {'balance': 300, 'name': 'Mary'}, {'balance': 400, 'name': 'Mark'}]}\n",
            "=======================\n",
            "Joe\n",
            "=======================\n",
            "200\n"
          ]
        }
      ]
    },
    {
      "cell_type": "code",
      "source": [
        "# test quarks/<name> API\n",
        "response = requests.get(url + \"/records/Joe\",headers=header)\n",
        "response.json()"
      ],
      "metadata": {
        "colab": {
          "base_uri": "https://localhost:8080/"
        },
        "id": "eS60VOyU3WUd",
        "outputId": "4c5bcec7-6c28-49cb-fb60-c13ab406f538"
      },
      "execution_count": null,
      "outputs": [
        {
          "output_type": "execute_result",
          "data": {
            "text/plain": [
              "{'balance': 100, 'name': 'Joe'}"
            ]
          },
          "metadata": {},
          "execution_count": 38
        }
      ]
    },
    {
      "cell_type": "code",
      "source": [
        "# test post method\n",
        "# crate a new json object and post\n",
        "response = requests.post(url + \"/records\",headers=header, json={\"name\":\"Superman\",\"balance\":\"100000\"})\n",
        "response.json()"
      ],
      "metadata": {
        "colab": {
          "base_uri": "https://localhost:8080/"
        },
        "id": "3HtI8qmM3e4_",
        "outputId": "d7b465a9-f0d9-47fd-ed5f-98c5f14a8ab8"
      },
      "execution_count": null,
      "outputs": [
        {
          "output_type": "execute_result",
          "data": {
            "text/plain": [
              "[{'balance': '300', 'name': 'Jim'},\n",
              " {'balance': 200, 'name': 'Bill'},\n",
              " {'balance': 300, 'name': 'Mary'},\n",
              " {'balance': 400, 'name': 'Mark'},\n",
              " {'balance': '100', 'name': 'Joe'},\n",
              " {'balance': '100', 'name': 'Aravind'},\n",
              " {'balance': '100000', 'name': 'Superman'}]"
            ]
          },
          "metadata": {},
          "execution_count": 42
        }
      ]
    },
    {
      "cell_type": "code",
      "source": [
        "# update top quark by replacing it with bottom quark\n",
        "response = requests.put(url + \"/records/Joe\",headers=header, json={\"name\":\"Jim\",\"balance\":\"300\"})\n",
        "response.json()"
      ],
      "metadata": {
        "colab": {
          "base_uri": "https://localhost:8080/"
        },
        "id": "HPrBdHBR3tCE",
        "outputId": "66662908-f935-4e04-da47-8877fdd1272d"
      },
      "execution_count": null,
      "outputs": [
        {
          "output_type": "execute_result",
          "data": {
            "text/plain": [
              "[{'balance': '300', 'name': 'Jim'},\n",
              " {'balance': 200, 'name': 'Bill'},\n",
              " {'balance': 300, 'name': 'Mary'},\n",
              " {'balance': 400, 'name': 'Mark'},\n",
              " {'balance': '100', 'name': 'Joe'},\n",
              " {'balance': '100', 'name': 'Aravind'}]"
            ]
          },
          "metadata": {},
          "execution_count": 41
        }
      ]
    },
    {
      "cell_type": "code",
      "source": [
        "# test delete API\n",
        "response = requests.delete(url + \"/records/Superman\",headers=header)\n",
        "response.json()"
      ],
      "metadata": {
        "colab": {
          "base_uri": "https://localhost:8080/"
        },
        "id": "P2lNZ4Um4nL8",
        "outputId": "5cf21e42-880a-4f94-af06-947fc78c4ea5"
      },
      "execution_count": null,
      "outputs": [
        {
          "output_type": "execute_result",
          "data": {
            "text/plain": [
              "[{'balance': '300', 'name': 'Jim'},\n",
              " {'balance': 200, 'name': 'Bill'},\n",
              " {'balance': 300, 'name': 'Mary'},\n",
              " {'balance': 400, 'name': 'Mark'},\n",
              " {'balance': '100', 'name': 'Joe'},\n",
              " {'balance': '100', 'name': 'Aravind'}]"
            ]
          },
          "metadata": {},
          "execution_count": 45
        }
      ]
    },
    {
      "cell_type": "code",
      "source": [],
      "metadata": {
        "id": "fBpHf7YQjGxN"
      },
      "execution_count": null,
      "outputs": []
    }
  ]
}
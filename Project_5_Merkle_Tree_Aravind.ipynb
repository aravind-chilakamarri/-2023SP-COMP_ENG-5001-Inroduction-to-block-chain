{
  "nbformat": 4,
  "nbformat_minor": 0,
  "metadata": {
    "colab": {
      "provenance": []
    },
    "kernelspec": {
      "name": "python3",
      "display_name": "Python 3"
    },
    "language_info": {
      "name": "python"
    }
  },
  "cells": [
    {
      "cell_type": "code",
      "execution_count": 38,
      "metadata": {
        "id": "HaCOQleMEBt0"
      },
      "outputs": [],
      "source": [
        "import hashlib\n",
        "\n",
        "data = [\n",
        "    \"Intro to Blockchain Engineering\",\n",
        "    \"Dr. Minsu Choi\",\n",
        "    \"Missouri S&T\",\n",
        "    \"Spring 2023\"\n",
        "]"
      ]
    },
    {
      "cell_type": "code",
      "source": [
        "hashes = [hashlib.sha256(d.encode()).hexdigest() for d in data]\n",
        "\n",
        "level_0 = hashes\n",
        "level_1 = [hashlib.sha256((hashes[i] + hashes[i+1]).encode()).hexdigest() for i in range(0, len(hashes), 2)]\n",
        "level_2 = [hashlib.sha256((level_1[i] + level_1[i+1]).encode()).hexdigest() for i in range(0, len(level_1), 2)]\n",
        "root_hash = level_2[0]"
      ],
      "metadata": {
        "id": "8d7bZJnwJ4u8"
      },
      "execution_count": 39,
      "outputs": []
    },
    {
      "cell_type": "code",
      "source": [
        "print(\"Data#1 to Data#4:\")\n",
        "for d in data:\n",
        "    print(d)\n",
        "\n",
        "print(\"\\nHash 0-0 to 0-4:\")\n",
        "print(\"Hash 0-0: \", hashes[0])\n",
        "print(\"Hash 0-1: \", level_1[0])\n",
        "print(\"Hash 0-2: \", level_1[1])\n",
        "print(\"Hash 0-3: \", hashes[3])\n",
        "print(\"Hash 0-4: \", level_2[0])"
      ],
      "metadata": {
        "colab": {
          "base_uri": "https://localhost:8080/"
        },
        "id": "XZ12VdkbJ6-I",
        "outputId": "e2cae593-ae77-4009-c979-3464b9e50d45"
      },
      "execution_count": 40,
      "outputs": [
        {
          "output_type": "stream",
          "name": "stdout",
          "text": [
            "Data#1 to Data#4:\n",
            "Intro to Blockchain Engineering\n",
            "Dr. Minsu Choi\n",
            "Missouri S&T\n",
            "Spring 2023\n",
            "\n",
            "Hash 0-0 to 0-4:\n",
            "Hash 0-0:  191b9d3320d47d75072d124724a1acf2492a63feed7e83bb86b064612370869c\n",
            "Hash 0-1:  636634873d935506b6e7f80e262056d2d1ec9c859adbf94a439e52bbdc451152\n",
            "Hash 0-2:  810b06830dabc12ca7e53e54263b21b88215166726f68a08cd10c4467746e5d0\n",
            "Hash 0-3:  492adf374353f048a3fcae9a48578d491bdd4033c7a42f74fba58e98cdefac08\n",
            "Hash 0-4:  7222fabd4d1ff6ecee44336514dbf03887afe6eea51b6fa19c49971ed34b313c\n"
          ]
        }
      ]
    },
    {
      "cell_type": "code",
      "source": [
        "# Verify the membership of \"Missouri S&T\"\n",
        "proof = [hashes[3], level_1[1], root_hash]\n",
        "target = hashlib.sha256(data[2].encode()).hexdigest()\n",
        "print(\"\\nVerifying membership of 'Missouri S&T':\")\n",
        "print(\"Target hash: \", target)\n",
        "print(\"Proof: \", proof)\n",
        "computed_hash = target\n",
        "for h in proof:\n",
        "    computed_hash = hashlib.sha256((computed_hash + h).encode()).hexdigest()\n",
        "print(\"Computed hash: \", computed_hash)\n",
        "print(\"Membership: \", computed_hash == root_hash)"
      ],
      "metadata": {
        "colab": {
          "base_uri": "https://localhost:8080/"
        },
        "id": "IOK1dDBFJ8w7",
        "outputId": "65f90176-5875-41c2-e9a6-3067c62840aa"
      },
      "execution_count": 37,
      "outputs": [
        {
          "output_type": "stream",
          "name": "stdout",
          "text": [
            "\n",
            "Verifying membership of 'Missouri S&T':\n",
            "Target hash:  33baffcbe89ebb3eecb2ef341851aca1ae93ef118e1af44aa5e76c823b75f7ce\n",
            "Proof:  ['492adf374353f048a3fcae9a48578d491bdd4033c7a42f74fba58e98cdefac08', '810b06830dabc12ca7e53e54263b21b88215166726f68a08cd10c4467746e5d0', '7222fabd4d1ff6ecee44336514dbf03887afe6eea51b6fa19c49971ed34b313c']\n",
            "Computed hash:  c4e24449dc1a76dcd114fb2db00c75e236e31617dd7a005c2db699db9201429e\n",
            "Membership:  False\n"
          ]
        }
      ]
    },
    {
      "cell_type": "code",
      "source": [],
      "metadata": {
        "id": "M46SH_lgJ9oF"
      },
      "execution_count": null,
      "outputs": []
    }
  ]
}
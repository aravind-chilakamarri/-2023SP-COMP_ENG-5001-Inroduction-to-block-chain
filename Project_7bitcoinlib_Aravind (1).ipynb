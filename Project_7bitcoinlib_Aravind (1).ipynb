{
  "nbformat": 4,
  "nbformat_minor": 0,
  "metadata": {
    "colab": {
      "provenance": []
    },
    "kernelspec": {
      "name": "python3",
      "display_name": "Python 3"
    },
    "language_info": {
      "name": "python"
    }
  },
  "cells": [
    {
      "cell_type": "code",
      "execution_count": 5,
      "metadata": {
        "colab": {
          "base_uri": "https://localhost:8080/"
        },
        "id": "nZeVtOj2n3Xj",
        "outputId": "b90de2e0-1bc3-4782-9507-3280797a6ae8"
      },
      "outputs": [
        {
          "output_type": "stream",
          "name": "stdout",
          "text": [
            "Reading package lists... Done\n",
            "Building dependency tree       \n",
            "Reading state information... Done\n",
            "libgmp-dev is already the newest version (2:6.2.0+dfsg-4ubuntu0.1).\n",
            "0 upgraded, 0 newly installed, 0 to remove and 23 not upgraded.\n",
            "Looking in indexes: https://pypi.org/simple, https://us-python.pkg.dev/colab-wheels/public/simple/\n",
            "Requirement already satisfied: bitcoinlib in /usr/local/lib/python3.9/dist-packages (0.6.9)\n",
            "Requirement already satisfied: pycryptodome>=3.14.1 in /usr/local/lib/python3.9/dist-packages (from bitcoinlib) (3.17)\n",
            "Requirement already satisfied: requests>=2.25.0 in /usr/local/lib/python3.9/dist-packages (from bitcoinlib) (2.27.1)\n",
            "Requirement already satisfied: fastecdsa>=2.2.1 in /usr/local/lib/python3.9/dist-packages (from bitcoinlib) (2.3.0)\n",
            "Requirement already satisfied: numpy>=1.21.0 in /usr/local/lib/python3.9/dist-packages (from bitcoinlib) (1.22.4)\n",
            "Requirement already satisfied: SQLAlchemy>=1.4.28 in /usr/local/lib/python3.9/dist-packages (from bitcoinlib) (1.4.47)\n",
            "Requirement already satisfied: certifi>=2017.4.17 in /usr/local/lib/python3.9/dist-packages (from requests>=2.25.0->bitcoinlib) (2022.12.7)\n",
            "Requirement already satisfied: idna<4,>=2.5 in /usr/local/lib/python3.9/dist-packages (from requests>=2.25.0->bitcoinlib) (3.4)\n",
            "Requirement already satisfied: charset-normalizer~=2.0.0 in /usr/local/lib/python3.9/dist-packages (from requests>=2.25.0->bitcoinlib) (2.0.12)\n",
            "Requirement already satisfied: urllib3<1.27,>=1.21.1 in /usr/local/lib/python3.9/dist-packages (from requests>=2.25.0->bitcoinlib) (1.26.15)\n",
            "Requirement already satisfied: greenlet!=0.4.17 in /usr/local/lib/python3.9/dist-packages (from SQLAlchemy>=1.4.28->bitcoinlib) (2.0.2)\n"
          ]
        }
      ],
      "source": [
        "# install required packages\n",
        "!apt-get install libgmp-dev\n",
        "from decimal import *\n",
        "!pip install bitcoinlib\n",
        "from pprint import pprint\n",
        "from bitcoinlib.transactions import *\n",
        "from bitcoinlib.services.services import Service\n",
        "# connnect to bitcoin blockchain service provider\n",
        "srv = Service()"
      ]
    },
    {
      "cell_type": "code",
      "source": [
        "block = srv.getblock(780698)\n",
        "pprint(block.as_dict())"
      ],
      "metadata": {
        "colab": {
          "base_uri": "https://localhost:8080/"
        },
        "id": "WepzUL6Yoc54",
        "outputId": "cf7d4bb4-6abe-443b-90bf-fc20db072bff"
      },
      "execution_count": 6,
      "outputs": [
        {
          "output_type": "stream",
          "name": "stdout",
          "text": [
            "{'bits': 386299521,\n",
            " 'block_hash': '000000000000000000045cdecebee2a7fb0b219ba0260b0d8d87bccc4d42469e',\n",
            " 'confirmations': None,\n",
            " 'difficulty': 43551722213590.37,\n",
            " 'height': 780698,\n",
            " 'merkle_root': '564488c8f73996524b20c33a34fb98c3ce30990d97e5b63319ae609394b81048',\n",
            " 'nonce': 2591039077,\n",
            " 'prev_block': '0000000000000000000532dbbb6dbd2b7b5ab32227a9d3a09d6c567cf6a41d7e',\n",
            " 'target': '0000000000000000000676810000000000000000000000000000000000000000',\n",
            " 'timestamp': 1678753626,\n",
            " 'transactions': [<Transaction(id=058834551848ae628d1d5fbc28883363171d732e30f7768ce61e8c9bf7e9679d, inputs=1, outputs=3, status=confirmed, network=bitcoin)>,\n",
            "                  <Transaction(id=4128a6f38bbec6cb49f46cd262ba2ba681b01444357a0591b666aa4055fd1321, inputs=1, outputs=3, status=confirmed, network=bitcoin)>,\n",
            "                  <Transaction(id=00e3a3b32409fa1f91d7a6ac47ede79a4d58692987ddd61f4650d29528225c3f, inputs=1, outputs=2, status=confirmed, network=bitcoin)>,\n",
            "                  <Transaction(id=52a6fc164002933341a7a973afb9038181a0710fb40a13e56e4bcbb15b939f4c, inputs=1, outputs=2, status=confirmed, network=bitcoin)>,\n",
            "                  <Transaction(id=5ec2557d84d10b9d5cf6f1c18568f428e94fc85f2dc7bdf8e87fc6ea267d5815, inputs=1, outputs=1, status=confirmed, network=bitcoin)>,\n",
            "                  <Transaction(id=3e295536d719d6e02b911fdd738027fcb80f81e43cefe6ebac826ac5b0258db9, inputs=1, outputs=1, status=confirmed, network=bitcoin)>,\n",
            "                  <Transaction(id=f036a7e187420756ace3f2d53ebb8ab4168e5fe334716478a03fa9584603f459, inputs=1, outputs=2, status=confirmed, network=bitcoin)>,\n",
            "                  <Transaction(id=6a03fc7599b7784fd07b6bc8a5bcde957c7160d3fc599e57c7400ce9baf34033, inputs=1, outputs=2, status=confirmed, network=bitcoin)>,\n",
            "                  <Transaction(id=f58d51d294b46c280bbe63b195ec3d7c9fefc0ad985adb001c3eebff7d18bd81, inputs=1, outputs=2, status=confirmed, network=bitcoin)>,\n",
            "                  <Transaction(id=e46690c6d912ca983cc1af608a7a49152e5897be02990e030b54eaa30a90bce4, inputs=1, outputs=2, status=confirmed, network=bitcoin)>,\n",
            "                  <Transaction(id=629b62211a35c3f9358d72ba94ab1668b758624a3f1681e5b334c7bf335bd967, inputs=1, outputs=1, status=confirmed, network=bitcoin)>,\n",
            "                  <Transaction(id=4642eac8751451a36510c4e6c471622f2b3fe96a8456c45f913204fab1e2e090, inputs=1, outputs=2, status=confirmed, network=bitcoin)>,\n",
            "                  <Transaction(id=f0d316f26c4b0be6656793c7c73f1eb0201dbc5163ea4d839d168bd4f52d89ae, inputs=1, outputs=2, status=confirmed, network=bitcoin)>,\n",
            "                  <Transaction(id=992755e0b61ddbd156008b0fff0ee428d10dc2ef895e4733aef39eeaeb11be35, inputs=7, outputs=1, status=confirmed, network=bitcoin)>,\n",
            "                  <Transaction(id=2fe23a81b97f8607c0c4406da56befe993efa2f8bd4a6e36fd21dce74698d900, inputs=1, outputs=2, status=confirmed, network=bitcoin)>,\n",
            "                  <Transaction(id=49280e875276193ebb00a9f1c77e896394e2614dc63880c0856cbcd31a2228f9, inputs=3, outputs=2, status=confirmed, network=bitcoin)>,\n",
            "                  <Transaction(id=7de5a65bb7c98f78eb2be3fe4557ee585f855277e1920b1c9671b563920d89c6, inputs=1, outputs=1, status=confirmed, network=bitcoin)>,\n",
            "                  <Transaction(id=d2841ada8168d045096726fe06765754ece0047f33385ca3e3d7167343129d84, inputs=1, outputs=2, status=confirmed, network=bitcoin)>,\n",
            "                  <Transaction(id=6a09931281e203895e92fb850abca13f5c6a5f3f6dbb30622d18c4da40253f6b, inputs=6, outputs=1, status=confirmed, network=bitcoin)>,\n",
            "                  <Transaction(id=f306ec0dcce32a59acc402928374b9483083a9bcb1b385fe475bfb672d72623b, inputs=1, outputs=7, status=confirmed, network=bitcoin)>,\n",
            "                  <Transaction(id=d1e08357e756f1e0f29c4a565e1f17c90603a206dbcff81d0f3d2a244b9e356d, inputs=3, outputs=1, status=confirmed, network=bitcoin)>,\n",
            "                  <Transaction(id=f1c8f7ddeae8d4bf97ed181b68a86192ff949ca07c44ed68cb8afb9f6833364a, inputs=1, outputs=1, status=confirmed, network=bitcoin)>,\n",
            "                  <Transaction(id=895bc42ce70a031f04fcdc759d35c565b5f16a4bee0aba952e7c3def2dd5dd9f, inputs=1, outputs=1, status=confirmed, network=bitcoin)>,\n",
            "                  <Transaction(id=f8f6dd15584a396a3598fb0593a0f99ea7349b4f78d3b154af8dba83f592f4cf, inputs=1, outputs=1, status=confirmed, network=bitcoin)>,\n",
            "                  <Transaction(id=e0953a2caeb0d08e45510f8ded5df4cd0c6e8d1b0a86a0c23f25ce5d483794a7, inputs=1, outputs=1, status=confirmed, network=bitcoin)>],\n",
            " 'tx_count': 1990,\n",
            " 'version': 603652096}\n"
          ]
        }
      ]
    },
    {
      "cell_type": "code",
      "source": [
        "print(\"All transactional IDs are printed in HEX:\\n\")\n",
        "for each in block.transactions:\n",
        "    pprint({each.txid.encode().hex()})"
      ],
      "metadata": {
        "colab": {
          "base_uri": "https://localhost:8080/"
        },
        "id": "NwLnOsyEoh0c",
        "outputId": "631e74ab-f1c3-4a64-ea26-8c0e6eacd3c2"
      },
      "execution_count": 10,
      "outputs": [
        {
          "output_type": "stream",
          "name": "stdout",
          "text": [
            "All transactional IDs are printed in HEX:\n",
            "\n",
            "{'30353838333435353138343861653632386431643566626332383838333336333137316437333265333066373736386365363165386339626637653936373964'}\n",
            "{'34313238613666333862626563366362343966343663643236326261326261363831623031343434333537613035393162363636616134303535666431333231'}\n",
            "{'30306533613362333234303966613166393164376136616334376564653739613464353836393239383764646436316634363530643239353238323235633366'}\n",
            "{'35326136666331363430303239333333343161376139373361666239303338313831613037313066623430613133653536653462636262313562393339663463'}\n",
            "{'35656332353537643834643130623964356366366631633138353638663432386539346663383566326463376264663865383766633665613236376435383135'}\n",
            "{'33653239353533366437313964366530326239313166646437333830323766636238306638316534336365666536656261633832366163356230323538646239'}\n",
            "{'66303336613765313837343230373536616365336632643533656262386162343136386535666533333437313634373861303366613935383436303366343539'}\n",
            "{'36613033666337353939623737383466643037623662633861356263646539353763373136306433666335393965353763373430306365396261663334303333'}\n",
            "{'66353864353164323934623436633238306262653633623139356563336437633966656663306164393835616462303031633365656266663764313862643831'}\n",
            "{'65343636393063366439313263613938336363316166363038613761343931353265353839376265303239393065303330623534656161333061393062636534'}\n",
            "{'36323962363232313161333563336639333538643732626139346162313636386237353836323461336631363831653562333334633762663333356264393637'}\n",
            "{'34363432656163383735313435316133363531306334653663343731363232663262336665393661383435366334356639313332303466616231653265303930'}\n",
            "{'66306433313666323663346230626536363536373933633763373366316562303230316462633531363365613464383339643136386264346635326438396165'}\n",
            "{'39393237353565306236316464626431353630303862306666663065653432386431306463326566383935653437333361656633396565616562313162653335'}\n",
            "{'32666532336138316239376638363037633063343430366461353662656665393933656661326638626434613665333666643231646365373436393864393030'}\n",
            "{'34393238306538373532373631393365626230306139663163373765383936333934653236313464633633383830633038353663626364333161323232386639'}\n",
            "{'37646535613635626237633938663738656232626533666534353537656535383566383535323737653139323062316339363731623536333932306438396336'}\n",
            "{'64323834316164613831363864303435303936373236666530363736353735346563653030343766333333383563613365336437313637333433313239643834'}\n",
            "{'36613039393331323831653230333839356539326662383530616263613133663563366135663366366462623330363232643138633464613430323533663662'}\n",
            "{'66333036656330646363653332613539616363343032393238333734623934383330383361396263623162333835666534373562666236373264373236323362'}\n",
            "{'64316530383335376537353666316530663239633461353635653166313763393036303361323036646263666638316430663364326132343462396533353664'}\n",
            "{'66316338663764646561653864346266393765643138316236386138363139326666393439636130376334346564363863623861666239663638333333363461'}\n",
            "{'38393562633432636537306130333166303466636463373539643335633536356235663136613462656530616261393532653763336465663264643564643966'}\n",
            "{'66386636646431353538346133393661333539386662303539336130663939656137333439623466373864336231353461663864626138336635393266346366'}\n",
            "{'65303935336132636165623064303865343535313066386465643564663463643063366538643162306138366130633233663235636535643438333739346137'}\n"
          ]
        }
      ]
    },
    {
      "cell_type": "code",
      "source": [
        "input_satoshis = 0\n",
        "for each in block.transactions:\n",
        "    for each_one in each.inputs:\n",
        "        print(\"This address {} {} satoshis\".format(each_one.address, each_one.value))\n",
        "        input_satoshis += each_one.value\n",
        "print(f\"\\nIn Satoshi: {input_satoshis}\")\n",
        "total_input_btc = Decimal(input_satoshis) * Decimal(10**-8)\n",
        "print(f\"In BTC: {total_input_btc}\")"
      ],
      "metadata": {
        "colab": {
          "base_uri": "https://localhost:8080/"
        },
        "id": "JXt4f9jKot1h",
        "outputId": "267245f3-746d-4503-e81e-2ae591f6bd8c"
      },
      "execution_count": 13,
      "outputs": [
        {
          "output_type": "stream",
          "name": "stdout",
          "text": [
            "This address  0 satoshis\n",
            "This address bc1q7cyrfmck2ffu2ud3rn5l5a8yv6f0chkp0zpemf 443080034 satoshis\n",
            "This address 35iMHbUZeTssxBodiHwEEkb32jpBfVueEL 8957029258 satoshis\n",
            "This address bc1q4eaqw8z83u29q25c66gunl9h2v769vrld26jle 116308780 satoshis\n",
            "This address bc1qp3j555zprlmnjydaye99pyf67rvmw3cylvpga2 880000 satoshis\n",
            "This address 125DxMyJZCxKTTMcydKFff2QsA12sRojV5 427723 satoshis\n",
            "This address 13BBToVAUxrQ5HMY6vFW1uqLzGojDZ9fW8 36077108 satoshis\n",
            "This address 15FCg8GvQX4TXVwMDx6L9Tr5eKRR58hoWk 31932758 satoshis\n",
            "This address bc1qf83rx33njjd6rd370jv0ywn3z97w32ezxtx34m 1576654137 satoshis\n",
            "This address 1AJUWCK1zDDWqf11KEC2WT9B8BCeLZTT6f 3927230 satoshis\n",
            "This address bc1qlm37lnw0tutcmnw66584067cxq9cwfl3hzzz65 62219 satoshis\n",
            "This address 1D5ZSA9UVJBbweguhJoRSyQpNXL9aXwMVS 787480 satoshis\n",
            "This address 3QS8mSeJHxXMKYrt8Rxow83gC9M3j6itdo 23810470 satoshis\n",
            "This address 32mKQQmniiGeFWgMoGLomPRroKgkcsGZEM 1127500 satoshis\n",
            "This address 3DSbDmeuTdYd2mcAB83LVYjdScZQexWYLd 620000 satoshis\n",
            "This address 3QvWwv2dbE2o6dkVsWALgvTbUXuokbUnDF 441300 satoshis\n",
            "This address 3L6DbTmcYk6XBBzVnJ34CFZALmr4UJpm7E 412565 satoshis\n",
            "This address 36eTLLYBP9iVhygu2MJbc3GuTt736wkbJV 742631 satoshis\n",
            "This address 33p9BFkskcsy4Y2G6W2h26HqBV9YhvjV89 641020 satoshis\n",
            "This address 3LsTnzaM5nFHjnmRmPPoSiWkLobni7cVZb 12980 satoshis\n",
            "This address 1LnYFKsS575LqYKTqywaSgvVBe3NUxm673 8863934 satoshis\n",
            "This address bc1qt5u62lndq25whw5qwwjt7l7pjjt3nvjd89ypyk 247500 satoshis\n",
            "This address bc1q25vhm07pzld6jd4vf9ral09zklsjtlyjmr0s00 2056712 satoshis\n",
            "This address bc1qw0ktxe4p4vae6m2mmc00vg8gszvvpthpkxnl4v 534945 satoshis\n",
            "This address bc1q42d4svrapnktzux4dadzzmwch35c2smw88v95h 11004053 satoshis\n",
            "This address bc1qujepl0k5n0ga2e86yskvxa6auehpf6dlf84dx0 4381826 satoshis\n",
            "This address 38XdnFv8byovvJyAvgZ1GE3Rvf8Sj2wC8r 2058431 satoshis\n",
            "This address 399gbEeQ7ycxCd7t3wuQ6avBhpKyYqzgnV 99380 satoshis\n",
            "This address 3DR9mdz8iY3JPve2oXNxxeVmj9tDwn7CCy 430430 satoshis\n",
            "This address 32xGQc2AKeXYgYmj2BBstAmmkhdWZ4rGn9 1837473 satoshis\n",
            "This address 3BJ5vyfNSfoSgLWUAiwuDUrxbjM889CdU9 4008831 satoshis\n",
            "This address 3HikfzG6f4G5d81jUfvgiKNgkKtW3W62FR 50000 satoshis\n",
            "This address bc1qq904ynep5mvwpjxdlyecgeupg22dm8am6cfvgq 78108299 satoshis\n",
            "This address 3F7EibFSHirfeBNoyqLawj2ie3w6NX9pHC 3400000 satoshis\n",
            "This address 3CTjFpStZFRGF1XMm8WhvNKQUf5qdeU1KU 78990 satoshis\n",
            "This address 3FFjnLA8s9THdJYzuzWkQoigchjPe5HN4q 81978 satoshis\n",
            "This address bc1qaknm7l96kzel9tl36ran44u039yy325mcax7h2 55350000 satoshis\n",
            "This address bc1qvpchwq720kaps7emtphlhhd3xwl0jjcvga7tud 10000000 satoshis\n",
            "This address bc1qyt3kfu20fets2sws73m8lc750em9yz9m3p4spw 8238853 satoshis\n",
            "This address 1KcuVYhob1yqzqXU8vzvFTa5WjC6NiWY17 32176 satoshis\n",
            "\n",
            "In Satoshi: 11385839004\n",
            "In BTC: 113.8583900400000023822090916\n"
          ]
        }
      ]
    },
    {
      "cell_type": "code",
      "source": [
        "output_satoshis = 0\n",
        "for each in block.transactions:\n",
        "    for each_one in each.outputs:\n",
        "        print(\"The output address {} has {} satoshis\".format(each_one.address, each_one.value))\n",
        "        output_satoshis += each_one.value\n",
        "\n",
        "print(f\"\\nOutput satoshis: {output_satoshis}\")\n",
        "total_output_btc = Decimal(output_satoshis) * Decimal(10**-8)\n",
        "print(f\"Output in BTC: {total_output_btc}\")"
      ],
      "metadata": {
        "colab": {
          "base_uri": "https://localhost:8080/"
        },
        "id": "YgYa5I0Xo4Qu",
        "outputId": "ff52c28e-c116-4d4a-b3e9-fb4ece0f6ad2"
      },
      "execution_count": 15,
      "outputs": [
        {
          "output_type": "stream",
          "name": "stdout",
          "text": [
            "The output address 38XnPvu9PmonFU9WouPXUjYbW91wa5MerL has 634238772 satoshis\n",
            "The output address  has 0 satoshis\n",
            "The output address  has 0 satoshis\n",
            "The output address bc1qc9lek9suz5zlv4mrpc3jzz0rjjuzp07zfjcr7a has 144018 satoshis\n",
            "The output address 3DdRFSG1Zqf3Ryu8Egi3sCgidf6mMroyhC has 4021640 satoshis\n",
            "The output address bc1q7cyrfmck2ffu2ud3rn5l5a8yv6f0chkp0zpemf has 438887448 satoshis\n",
            "The output address 35iMHbUZeTssxBodiHwEEkb32jpBfVueEL has 8949350741 satoshis\n",
            "The output address 1P1ZbmJ82jACVQG13LhhwBSu7UdAFN7pwi has 7658189 satoshis\n",
            "The output address 3F8xfCyXJqRJvr43vjLxdpkMUe5CEUWbxq has 16179000 satoshis\n",
            "The output address bc1q4eaqw8z83u29q25c66gunl9h2v769vrld26jle has 100115296 satoshis\n",
            "The output address bc1qwc7x5mcg9stwxed2fa6q6ft9x42rvl6nevdvmr has 872169 satoshis\n",
            "The output address 39urHyX27m5ox2kpy1UAVJ98XLGFmJWP4m has 418746 satoshis\n",
            "The output address 3HnFZsr7nmjRbtHiP2ixY55n2jUKxZdxwF has 4134270 satoshis\n",
            "The output address 15FCg8GvQX4TXVwMDx6L9Tr5eKRR58hoWk has 31932758 satoshis\n",
            "The output address 35EJ3obz1zxJSroa8mG9aKbBNHqFKeK3mV has 4135670 satoshis\n",
            "The output address 1q1jGSFVVMzm4HEY42LCeEuKmt4Y6tcpJ has 27787008 satoshis\n",
            "The output address bc1qfxlquqhupvnnnpc54cq68ykesemy3564c5xys6 has 961874 satoshis\n",
            "The output address bc1qf83rx33njjd6rd370jv0ywn3z97w32ezxtx34m has 1575685937 satoshis\n",
            "The output address 1F37Ururbqbkpk8rYbUqwi2fzE3GffUaWi has 90892 satoshis\n",
            "The output address 1AJUWCK1zDDWqf11KEC2WT9B8BCeLZTT6f has 3826338 satoshis\n",
            "The output address bc1qmfsc9njvpzpjvs5urn6sqkzapfcuq0h3hu6ctp has 57699 satoshis\n",
            "The output address  has 0 satoshis\n",
            "The output address 1D5ZSA9UVJBbweguhJoRSyQpNXL9aXwMVS has 777480 satoshis\n",
            "The output address 1Dz2at9jsLWANzc86LSDJjEFjZLLHYWcP1 has 63500 satoshis\n",
            "The output address 3QS8mSeJHxXMKYrt8Rxow83gC9M3j6itdo has 23740190 satoshis\n",
            "The output address bc1qdxt5w76wfh39sjxzeqqckf2xzga9l7p0gesy5q has 3970825 satoshis\n",
            "The output address 1NGKt6HGFj2bCf4Z2wQ7v2Zu5kTiTRuccA has 5070000 satoshis\n",
            "The output address 1LnYFKsS575LqYKTqywaSgvVBe3NUxm673 has 3784934 satoshis\n",
            "The output address bc1qt6d3rpj3389gm8r9nf43f3kjzdwfs3re6tv60l has 1814850 satoshis\n",
            "The output address bc1q05zhuranvqep2xsahlrrl9wvmzjkhym590m8y0 has 1013908 satoshis\n",
            "The output address 3K99EmhXsF45euHqMU2c2T1f7S4D8dMMsG has 11000000 satoshis\n",
            "The output address 31zbnzb2RsWgFZxN3YBFUdNWNVdLPmvqu1 has 763078 satoshis\n",
            "The output address bc1qujepl0k5n0ga2e86yskvxa6auehpf6dlf84dx0 has 3613748 satoshis\n",
            "The output address 37jAAWEdJ9D9mXybRobcveioxSkt7Lkwog has 8463930 satoshis\n",
            "The output address bc1qq904ynep5mvwpjxdlyecgeupg22dm8am6cfvgq has 71492147 satoshis\n",
            "The output address bc1qscyxnc305h0z4dq5747hnk3xchz8twfckxpe2k has 369580 satoshis\n",
            "The output address 1BSuedXdZFEEXNEG9t3P46H6o5n8zBDZXb has 78418 satoshis\n",
            "The output address bc1qpfldy4y7892p0zxcszm7mtu0yzzd7gfr7ep42a has 762980 satoshis\n",
            "The output address bc1qfg9vqklvz238wm6ruhvm8vh8d8zqq5fzgmhxg2 has 208059 satoshis\n",
            "The output address 1G4rkkiAUayKaMVBN1Htkr66FZ1Nnj6J13 has 5116606 satoshis\n",
            "The output address 18cuJQN21ot6KkbT3KLiiwizjfRGXqhECy has 69834 satoshis\n",
            "The output address 37jAAWEdJ9D9mXybRobcveioxSkt7Lkwog has 3549908 satoshis\n",
            "The output address 19iSJXBSJpiGPmyLkz8c9sx3Nk3amyJok5 has 55346079 satoshis\n",
            "The output address 19iSJXBSJpiGPmyLkz8c9sx3Nk3amyJok5 has 9996079 satoshis\n",
            "The output address 19iSJXBSJpiGPmyLkz8c9sx3Nk3amyJok5 has 8234932 satoshis\n",
            "The output address 3DEFvArNZbUdtsqLNa7rUiottgRfzjdm6H has 25633 satoshis\n",
            "\n",
            "Output satoshis: 12019825163\n",
            "Output in BTC: 120.1982516300000025148552314\n"
          ]
        }
      ]
    },
    {
      "cell_type": "code",
      "source": [],
      "metadata": {
        "id": "cgRSLGrupTif"
      },
      "execution_count": null,
      "outputs": []
    }
  ]
}
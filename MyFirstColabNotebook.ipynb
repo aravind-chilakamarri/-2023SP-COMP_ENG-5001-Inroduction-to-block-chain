{
  "nbformat": 4,
  "nbformat_minor": 0,
  "metadata": {
    "colab": {
      "provenance": []
    },
    "kernelspec": {
      "name": "python3",
      "display_name": "Python 3"
    },
    "language_info": {
      "name": "python"
    },
    "gpuClass": "standard",
    "accelerator": "GPU"
  },
  "cells": [
    {
      "cell_type": "code",
      "execution_count": 1,
      "metadata": {
        "colab": {
          "base_uri": "https://localhost:8080/"
        },
        "id": "E_CzJuoWijjF",
        "outputId": "c0930a9c-8361-47e2-ee68-9679215e17cc"
      },
      "outputs": [
        {
          "output_type": "stream",
          "name": "stdout",
          "text": [
            "Thu Feb  2 02:28:16 2023\n"
          ]
        }
      ],
      "source": [
        "import time\n",
        "print(time.ctime())"
      ]
    },
    {
      "cell_type": "markdown",
      "source": [
        "Impoted time and printed it"
      ],
      "metadata": {
        "id": "MUjPv23YDFR2"
      }
    },
    {
      "cell_type": "code",
      "source": [
        "time.sleep(5)\n",
        "print (time.ctime())"
      ],
      "metadata": {
        "colab": {
          "base_uri": "https://localhost:8080/"
        },
        "id": "r86JapB0ishr",
        "outputId": "015a23b0-86a4-4996-9931-dfbb4bf94a3b"
      },
      "execution_count": 2,
      "outputs": [
        {
          "output_type": "stream",
          "name": "stdout",
          "text": [
            "Thu Feb  2 02:28:21 2023\n"
          ]
        }
      ]
    },
    {
      "cell_type": "markdown",
      "source": [
        "used the current time and used sleep function to pause for 5 seconds and then reprinted the time to see the difference in above time and below time"
      ],
      "metadata": {
        "id": "sjXgtVuUDJdY"
      }
    },
    {
      "cell_type": "markdown",
      "source": [
        "$\\sqrt{3x-1}+(1+x)^2$"
      ],
      "metadata": {
        "id": "STaXAjGnjgjo"
      }
    },
    {
      "cell_type": "markdown",
      "source": [
        "Used $ synbol and other symbols to represent textual kind of equations to mathematical equations."
      ],
      "metadata": {
        "id": "KB7o0Ft3DWTF"
      }
    },
    {
      "cell_type": "markdown",
      "source": [
        "$e^x = \\sum_{i = 0}^\\infty \\frac{1}{i!}x^i$"
      ],
      "metadata": {
        "id": "GGvWR7EcjseA"
      }
    },
    {
      "cell_type": "markdown",
      "source": [
        "Used $ synbol and other symbols to represent textual kind of equations to mathematical equations."
      ],
      "metadata": {
        "id": "-sz2QRRxDlq2"
      }
    },
    {
      "cell_type": "markdown",
      "source": [
        "Constraints are\n",
        "   - $3x_1 + 6x_2 + x_3 =< 28$\n",
        "   - $7x_1 + 3x_2 + 2x_3 =< 37$\n",
        "   - $4x_1 + 5x_2 + 2x_3 =< 19$\n",
        "   - $x_1,x_2,x_3 >=0 $\n",
        "\n",
        "The trial vector is calculated as follows:\n",
        "- $u_i(t) = x_i(t) + \\beta(\\hat{x}(t) − x_i(t)) + \\beta \\sum_{k = 1}^{n_v}(x_{i1,k}(t) − x_{i2,k}(t))$\n",
        "$f(x_1, x_2) = 20 + e - 20exp(-0.2 \\sqrt {\\frac {1}{n} (x_1^2 + x_2^2)}) - exp (\\frac {1}{n}(cos(2\\pi x_1) + cos(2\\pi x_2))$\n",
        "\n",
        "$x ∈ [-5, 5]$\n",
        ">$A_{m,n} =\n",
        "   \\begin{pmatrix}\n",
        "   a_{1,1} > a_{1,2} > \\cdots > a_{1,n} \\\\\n",
        "   a_{2,1} > a_{2,2} > \\cdots > a_{2,n} \\\\\n",
        "   \\vdots > \\vdots > \\ddots > \\vdots \\\\\n",
        "   a_{m,1} > a_{m,2} > \\cdots > a_{m,n}\n",
        "   \\end{pmatrix}$\n",
        "   "
      ],
      "metadata": {
        "id": "V4rMpRx2jvmY"
      }
    },
    {
      "cell_type": "markdown",
      "source": [
        "Used $ synbol and other symbols to represent textual kind of equations to mathematical equations."
      ],
      "metadata": {
        "id": "sQGq7_tHDomx"
      }
    },
    {
      "cell_type": "code",
      "source": [
        "!wget http://mlr.cs.umass.edu/ml/machine-learning-databases/adult/adult.data -P \"/content/drive/My Drive/app\""
      ],
      "metadata": {
        "colab": {
          "base_uri": "https://localhost:8080/"
        },
        "id": "jYKLLNkLkJ5g",
        "outputId": "93066cca-7905-43e6-f8b8-3a32e94a257c"
      },
      "execution_count": 4,
      "outputs": [
        {
          "output_type": "stream",
          "name": "stdout",
          "text": [
            "--2023-02-02 02:28:21--  http://mlr.cs.umass.edu/ml/machine-learning-databases/adult/adult.data\n",
            "Resolving mlr.cs.umass.edu (mlr.cs.umass.edu)... failed: Name or service not known.\n",
            "wget: unable to resolve host address ‘mlr.cs.umass.edu’\n"
          ]
        }
      ]
    },
    {
      "cell_type": "markdown",
      "source": [
        "Connecting to other website service to get the data"
      ],
      "metadata": {
        "id": "p0cAq5HBEjOa"
      }
    },
    {
      "cell_type": "code",
      "source": [
        "import pandas as pd\n",
        "data = pd.read_csv(\"/content/drive/My Drive/adult.data\")\n",
        "data.head(5)"
      ],
      "metadata": {
        "colab": {
          "base_uri": "https://localhost:8080/",
          "height": 206
        },
        "id": "XTQQQI4XkQSm",
        "outputId": "72cdd1da-a446-4623-9244-386a0382cd2a"
      },
      "execution_count": 49,
      "outputs": [
        {
          "output_type": "execute_result",
          "data": {
            "text/plain": [
              "   39          State-gov   77516   Bachelors   13        Never-married  \\\n",
              "0  50   Self-emp-not-inc   83311   Bachelors   13   Married-civ-spouse   \n",
              "1  38            Private  215646     HS-grad    9             Divorced   \n",
              "2  53            Private  234721        11th    7   Married-civ-spouse   \n",
              "3  28            Private  338409   Bachelors   13   Married-civ-spouse   \n",
              "4  37            Private  284582     Masters   14   Married-civ-spouse   \n",
              "\n",
              "         Adm-clerical   Not-in-family   White     Male   2174   0   40  \\\n",
              "0     Exec-managerial         Husband   White     Male      0   0   13   \n",
              "1   Handlers-cleaners   Not-in-family   White     Male      0   0   40   \n",
              "2   Handlers-cleaners         Husband   Black     Male      0   0   40   \n",
              "3      Prof-specialty            Wife   Black   Female      0   0   40   \n",
              "4     Exec-managerial            Wife   White   Female      0   0   40   \n",
              "\n",
              "    United-States   <=50K  \n",
              "0   United-States   <=50K  \n",
              "1   United-States   <=50K  \n",
              "2   United-States   <=50K  \n",
              "3            Cuba   <=50K  \n",
              "4   United-States   <=50K  "
            ],
            "text/html": [
              "\n",
              "  <div id=\"df-842ae256-20f6-41dd-aa3e-8f6829aacd34\">\n",
              "    <div class=\"colab-df-container\">\n",
              "      <div>\n",
              "<style scoped>\n",
              "    .dataframe tbody tr th:only-of-type {\n",
              "        vertical-align: middle;\n",
              "    }\n",
              "\n",
              "    .dataframe tbody tr th {\n",
              "        vertical-align: top;\n",
              "    }\n",
              "\n",
              "    .dataframe thead th {\n",
              "        text-align: right;\n",
              "    }\n",
              "</style>\n",
              "<table border=\"1\" class=\"dataframe\">\n",
              "  <thead>\n",
              "    <tr style=\"text-align: right;\">\n",
              "      <th></th>\n",
              "      <th>39</th>\n",
              "      <th>State-gov</th>\n",
              "      <th>77516</th>\n",
              "      <th>Bachelors</th>\n",
              "      <th>13</th>\n",
              "      <th>Never-married</th>\n",
              "      <th>Adm-clerical</th>\n",
              "      <th>Not-in-family</th>\n",
              "      <th>White</th>\n",
              "      <th>Male</th>\n",
              "      <th>2174</th>\n",
              "      <th>0</th>\n",
              "      <th>40</th>\n",
              "      <th>United-States</th>\n",
              "      <th>&lt;=50K</th>\n",
              "    </tr>\n",
              "  </thead>\n",
              "  <tbody>\n",
              "    <tr>\n",
              "      <th>0</th>\n",
              "      <td>50</td>\n",
              "      <td>Self-emp-not-inc</td>\n",
              "      <td>83311</td>\n",
              "      <td>Bachelors</td>\n",
              "      <td>13</td>\n",
              "      <td>Married-civ-spouse</td>\n",
              "      <td>Exec-managerial</td>\n",
              "      <td>Husband</td>\n",
              "      <td>White</td>\n",
              "      <td>Male</td>\n",
              "      <td>0</td>\n",
              "      <td>0</td>\n",
              "      <td>13</td>\n",
              "      <td>United-States</td>\n",
              "      <td>&lt;=50K</td>\n",
              "    </tr>\n",
              "    <tr>\n",
              "      <th>1</th>\n",
              "      <td>38</td>\n",
              "      <td>Private</td>\n",
              "      <td>215646</td>\n",
              "      <td>HS-grad</td>\n",
              "      <td>9</td>\n",
              "      <td>Divorced</td>\n",
              "      <td>Handlers-cleaners</td>\n",
              "      <td>Not-in-family</td>\n",
              "      <td>White</td>\n",
              "      <td>Male</td>\n",
              "      <td>0</td>\n",
              "      <td>0</td>\n",
              "      <td>40</td>\n",
              "      <td>United-States</td>\n",
              "      <td>&lt;=50K</td>\n",
              "    </tr>\n",
              "    <tr>\n",
              "      <th>2</th>\n",
              "      <td>53</td>\n",
              "      <td>Private</td>\n",
              "      <td>234721</td>\n",
              "      <td>11th</td>\n",
              "      <td>7</td>\n",
              "      <td>Married-civ-spouse</td>\n",
              "      <td>Handlers-cleaners</td>\n",
              "      <td>Husband</td>\n",
              "      <td>Black</td>\n",
              "      <td>Male</td>\n",
              "      <td>0</td>\n",
              "      <td>0</td>\n",
              "      <td>40</td>\n",
              "      <td>United-States</td>\n",
              "      <td>&lt;=50K</td>\n",
              "    </tr>\n",
              "    <tr>\n",
              "      <th>3</th>\n",
              "      <td>28</td>\n",
              "      <td>Private</td>\n",
              "      <td>338409</td>\n",
              "      <td>Bachelors</td>\n",
              "      <td>13</td>\n",
              "      <td>Married-civ-spouse</td>\n",
              "      <td>Prof-specialty</td>\n",
              "      <td>Wife</td>\n",
              "      <td>Black</td>\n",
              "      <td>Female</td>\n",
              "      <td>0</td>\n",
              "      <td>0</td>\n",
              "      <td>40</td>\n",
              "      <td>Cuba</td>\n",
              "      <td>&lt;=50K</td>\n",
              "    </tr>\n",
              "    <tr>\n",
              "      <th>4</th>\n",
              "      <td>37</td>\n",
              "      <td>Private</td>\n",
              "      <td>284582</td>\n",
              "      <td>Masters</td>\n",
              "      <td>14</td>\n",
              "      <td>Married-civ-spouse</td>\n",
              "      <td>Exec-managerial</td>\n",
              "      <td>Wife</td>\n",
              "      <td>White</td>\n",
              "      <td>Female</td>\n",
              "      <td>0</td>\n",
              "      <td>0</td>\n",
              "      <td>40</td>\n",
              "      <td>United-States</td>\n",
              "      <td>&lt;=50K</td>\n",
              "    </tr>\n",
              "  </tbody>\n",
              "</table>\n",
              "</div>\n",
              "      <button class=\"colab-df-convert\" onclick=\"convertToInteractive('df-842ae256-20f6-41dd-aa3e-8f6829aacd34')\"\n",
              "              title=\"Convert this dataframe to an interactive table.\"\n",
              "              style=\"display:none;\">\n",
              "        \n",
              "  <svg xmlns=\"http://www.w3.org/2000/svg\" height=\"24px\"viewBox=\"0 0 24 24\"\n",
              "       width=\"24px\">\n",
              "    <path d=\"M0 0h24v24H0V0z\" fill=\"none\"/>\n",
              "    <path d=\"M18.56 5.44l.94 2.06.94-2.06 2.06-.94-2.06-.94-.94-2.06-.94 2.06-2.06.94zm-11 1L8.5 8.5l.94-2.06 2.06-.94-2.06-.94L8.5 2.5l-.94 2.06-2.06.94zm10 10l.94 2.06.94-2.06 2.06-.94-2.06-.94-.94-2.06-.94 2.06-2.06.94z\"/><path d=\"M17.41 7.96l-1.37-1.37c-.4-.4-.92-.59-1.43-.59-.52 0-1.04.2-1.43.59L10.3 9.45l-7.72 7.72c-.78.78-.78 2.05 0 2.83L4 21.41c.39.39.9.59 1.41.59.51 0 1.02-.2 1.41-.59l7.78-7.78 2.81-2.81c.8-.78.8-2.07 0-2.86zM5.41 20L4 18.59l7.72-7.72 1.47 1.35L5.41 20z\"/>\n",
              "  </svg>\n",
              "      </button>\n",
              "      \n",
              "  <style>\n",
              "    .colab-df-container {\n",
              "      display:flex;\n",
              "      flex-wrap:wrap;\n",
              "      gap: 12px;\n",
              "    }\n",
              "\n",
              "    .colab-df-convert {\n",
              "      background-color: #E8F0FE;\n",
              "      border: none;\n",
              "      border-radius: 50%;\n",
              "      cursor: pointer;\n",
              "      display: none;\n",
              "      fill: #1967D2;\n",
              "      height: 32px;\n",
              "      padding: 0 0 0 0;\n",
              "      width: 32px;\n",
              "    }\n",
              "\n",
              "    .colab-df-convert:hover {\n",
              "      background-color: #E2EBFA;\n",
              "      box-shadow: 0px 1px 2px rgba(60, 64, 67, 0.3), 0px 1px 3px 1px rgba(60, 64, 67, 0.15);\n",
              "      fill: #174EA6;\n",
              "    }\n",
              "\n",
              "    [theme=dark] .colab-df-convert {\n",
              "      background-color: #3B4455;\n",
              "      fill: #D2E3FC;\n",
              "    }\n",
              "\n",
              "    [theme=dark] .colab-df-convert:hover {\n",
              "      background-color: #434B5C;\n",
              "      box-shadow: 0px 1px 3px 1px rgba(0, 0, 0, 0.15);\n",
              "      filter: drop-shadow(0px 1px 2px rgba(0, 0, 0, 0.3));\n",
              "      fill: #FFFFFF;\n",
              "    }\n",
              "  </style>\n",
              "\n",
              "      <script>\n",
              "        const buttonEl =\n",
              "          document.querySelector('#df-842ae256-20f6-41dd-aa3e-8f6829aacd34 button.colab-df-convert');\n",
              "        buttonEl.style.display =\n",
              "          google.colab.kernel.accessAllowed ? 'block' : 'none';\n",
              "\n",
              "        async function convertToInteractive(key) {\n",
              "          const element = document.querySelector('#df-842ae256-20f6-41dd-aa3e-8f6829aacd34');\n",
              "          const dataTable =\n",
              "            await google.colab.kernel.invokeFunction('convertToInteractive',\n",
              "                                                     [key], {});\n",
              "          if (!dataTable) return;\n",
              "\n",
              "          const docLinkHtml = 'Like what you see? Visit the ' +\n",
              "            '<a target=\"_blank\" href=https://colab.research.google.com/notebooks/data_table.ipynb>data table notebook</a>'\n",
              "            + ' to learn more about interactive tables.';\n",
              "          element.innerHTML = '';\n",
              "          dataTable['output_type'] = 'display_data';\n",
              "          await google.colab.output.renderOutput(dataTable, element);\n",
              "          const docLink = document.createElement('div');\n",
              "          docLink.innerHTML = docLinkHtml;\n",
              "          element.appendChild(docLink);\n",
              "        }\n",
              "      </script>\n",
              "    </div>\n",
              "  </div>\n",
              "  "
            ]
          },
          "metadata": {},
          "execution_count": 49
        }
      ]
    },
    {
      "cell_type": "markdown",
      "source": [
        "Downloaded adult.data from google and uploaded it to the drive to fetch it back. We just printed first 5 rows of the data using .head"
      ],
      "metadata": {
        "id": "hlI0sNdMFYIH"
      }
    },
    {
      "cell_type": "code",
      "source": [
        "!git clone https://github.com/wxs/keras-mnist-tutorial.git"
      ],
      "metadata": {
        "colab": {
          "base_uri": "https://localhost:8080/"
        },
        "id": "2M28zGlFkd53",
        "outputId": "2bacbdb8-9c02-492a-b044-7dfa4368a9dd"
      },
      "execution_count": 51,
      "outputs": [
        {
          "output_type": "stream",
          "name": "stdout",
          "text": [
            "fatal: destination path 'keras-mnist-tutorial' already exists and is not an empty directory.\n"
          ]
        }
      ]
    },
    {
      "cell_type": "markdown",
      "source": [
        "Trying to clone it from the git"
      ],
      "metadata": {
        "id": "-jeP_dW_FrD7"
      }
    },
    {
      "cell_type": "code",
      "source": [
        "!ls /bin"
      ],
      "metadata": {
        "colab": {
          "base_uri": "https://localhost:8080/"
        },
        "id": "6d2gPVlzkglf",
        "outputId": "d64723b7-1e58-470e-bc0b-80b067a024a6"
      },
      "execution_count": 52,
      "outputs": [
        {
          "output_type": "stream",
          "name": "stdout",
          "text": [
            "'['\t\t\t\t      more\n",
            " 2to3-2.7\t\t\t      mount\n",
            " 7z\t\t\t\t      mountpoint\n",
            " 7za\t\t\t\t      mpexpand\n",
            " 7zr\t\t\t\t      mpic++\n",
            " aclocal\t\t\t      mpicalc\n",
            " aclocal-1.16\t\t\t      mpicc\n",
            " acyclic\t\t\t      mpiCC\n",
            " add-apt-repository\t\t      mpicc.openmpi\n",
            " addpart\t\t\t      mpiCC.openmpi\n",
            " addr2line\t\t\t      mpic++.openmpi\n",
            " apropos\t\t\t      mpicxx\n",
            " apt\t\t\t\t      mpicxx.openmpi\n",
            " apt-add-repository\t\t      mpiexec\n",
            " apt-cache\t\t\t      mpiexec.openmpi\n",
            " apt-cdrom\t\t\t      mpif77\n",
            " apt-config\t\t\t      mpif77.openmpi\n",
            " apt-extracttemplates\t\t      mpif90\n",
            " apt-ftparchive\t\t\t      mpif90.openmpi\n",
            " apt-get\t\t\t      mpifort\n",
            " apt-key\t\t\t      mpifort.openmpi\n",
            " apt-mark\t\t\t      mpirun\n",
            " apt-sortpkgs\t\t\t      mpirun.openmpi\n",
            " ar\t\t\t\t      mtrace\n",
            " arch\t\t\t\t      mutter\n",
            " as\t\t\t\t      mv\n",
            " asan_symbolize\t\t\t      mysql_config\n",
            " asan_symbolize-10\t\t      namei\n",
            " assistant\t\t\t      nawk\n",
            " autoconf\t\t\t      ncal\n",
            " autoheader\t\t\t      nc-config\n",
            " autom4te\t\t\t      ncurses5-config\n",
            " automake\t\t\t      ncurses6-config\n",
            " automake-1.16\t\t\t      ncursesw5-config\n",
            " autoreconf\t\t\t      ncursesw6-config\n",
            " autoscan\t\t\t      nearblack\n",
            " autoupdate\t\t\t      neato\n",
            " awk\t\t\t\t      neqn\n",
            " b2\t\t\t\t      networkctl\n",
            " b2sum\t\t\t\t      newgrp\n",
            " base32\t\t\t\t      nice\n",
            " base64\t\t\t\t      nisdomainname\n",
            " basename\t\t\t      nl\n",
            " bash\t\t\t\t      nm\n",
            " bashbug\t\t\t      nns\n",
            " bcomps\t\t\t\t      nnsd\n",
            " bcp\t\t\t\t      nnslog\n",
            " bjam\t\t\t\t      nohup\n",
            " bootctl\t\t\t      nop\n",
            " browse\t\t\t\t      nproc\n",
            " bsd-from\t\t\t      nroff\n",
            " bsd-write\t\t\t      nsenter\n",
            " bunzip2\t\t\t      nstat\n",
            " busctl\t\t\t\t      numfmt\n",
            " bwrap\t\t\t\t      nvidia-bug-report.sh\n",
            " bzcat\t\t\t\t      nvidia-cuda-mps-control\n",
            " bzcmp\t\t\t\t      nvidia-cuda-mps-server\n",
            " bzdiff\t\t\t\t      nvidia-debugdump\n",
            " bzegrep\t\t\t      nvidia-modprobe\n",
            " bzexe\t\t\t\t      nvidia-persistenced\n",
            " bzfgrep\t\t\t      nvidia-powerd\n",
            " bzgrep\t\t\t\t      nvidia-settings\n",
            " bzip2\t\t\t\t      nvidia-smi\n",
            " bzip2recover\t\t\t      nvidia-xconfig\n",
            " bzless\t\t\t\t      objcopy\n",
            " bzmore\t\t\t\t      objdump\n",
            " c++\t\t\t\t      od\n",
            " c89\t\t\t\t      odbcinst\n",
            " c89-gcc\t\t\t      ogdi-config\n",
            " c99\t\t\t\t      ogr2ogr\n",
            " c99-gcc\t\t\t      ogrinfo\n",
            " cal\t\t\t\t      ogrlineref\n",
            " calendar\t\t\t      ogrmerge.py\n",
            " captoinfo\t\t\t      ogrtindex\n",
            " cat\t\t\t\t      ompi-clean\n",
            " catchsegv\t\t\t      ompi_info\n",
            " catman\t\t\t\t      ompi-server\n",
            " cautious-launcher\t\t      opalc++\n",
            " cc\t\t\t\t      opalcc\n",
            " ccomps\t\t\t\t      opal_wrapper\n",
            " c++filt\t\t\t      opencv_annotation\n",
            " chage\t\t\t\t      opencv_interactive-calibration\n",
            " chardet3\t\t\t      opencv_version\n",
            " chardetect3\t\t\t      opencv_visualisation\n",
            " chattr\t\t\t\t      opencv_waldboost_detector\n",
            " chcon\t\t\t\t      openssl\n",
            " chfn\t\t\t\t      orte-clean\n",
            " chgrp\t\t\t\t      orted\n",
            " chmod\t\t\t\t      orterun\n",
            " choom\t\t\t\t      orte-server\n",
            " chown\t\t\t\t      osage\n",
            " chronic\t\t\t      p11-kit\n",
            " chrt\t\t\t\t      p7zip\n",
            " chsh\t\t\t\t      pack200\n",
            " circo\t\t\t\t      page\n",
            " cksum\t\t\t\t      pager\n",
            " clang\t\t\t\t      pandoc\n",
            " clang++\t\t\t      paperconf\n",
            " clang++-10\t\t\t      parallel\n",
            " clang-10\t\t\t      partx\n",
            " clang-cpp-10\t\t\t      passwd\n",
            " clear\t\t\t\t      paste\n",
            " clear_console\t\t\t      patch\n",
            " clinfo\t\t\t\t      patchwork\n",
            " cluster\t\t\t      pathchk\n",
            " cmake\t\t\t\t      pcre2-config\n",
            " cmp\t\t\t\t      pcre-config\n",
            " col\t\t\t\t      pct2rgb.py\n",
            " colcrt\t\t\t\t      pdb2.7\n",
            " colrm\t\t\t\t      pdb3\n",
            " column\t\t\t\t      pdb3.8\n",
            " combine\t\t\t      pee\n",
            " comm\t\t\t\t      peekfd\n",
            " compile_et\t\t\t      perl\n",
            " compose\t\t\t      perl5.30.0\n",
            " corelist\t\t\t      perl5.30-x86_64-linux-gnu\n",
            " cp\t\t\t\t      perlbug\n",
            " cpack\t\t\t\t      perldoc\n",
            " cpan\t\t\t\t      perlivp\n",
            " cpan5.30-x86_64-linux-gnu\t      perlthanks\n",
            " cpp\t\t\t\t      pg_config\n",
            " cpp-9\t\t\t\t      pgrep\n",
            " c_rehash\t\t\t      pic\n",
            " csplit\t\t\t\t      piconv\n",
            " ctest\t\t\t\t      pidof\n",
            " ctstat\t\t\t\t      pinentry\n",
            " curl\t\t\t\t      pinentry-curses\n",
            " curl-config\t\t\t      pinentry-gnome3\n",
            " cut\t\t\t\t      pinentry-x11\n",
            " cvt\t\t\t\t      pinky\n",
            " cvtsudoers\t\t\t      pixeltool\n",
            " dap-config\t\t\t      pkaction\n",
            " dash\t\t\t\t      pkcheck\n",
            " date\t\t\t\t      pkexec\n",
            " dbus-cleanup-sockets\t\t      pkg-config\n",
            " dbus-daemon\t\t\t      pkgdata\n",
            " dbus-monitor\t\t\t      pkill\n",
            " dbus-run-session\t\t      pkttyagent\n",
            " dbus-send\t\t\t      pl2pm\n",
            " dbus-update-activation-environment   pldd\n",
            " dbus-uuidgen\t\t\t      pmap\n",
            " dd\t\t\t\t      pngfix\n",
            " debconf\t\t\t      png-fix-itxt\n",
            " debconf-apt-progress\t\t      pod2html\n",
            " debconf-communicate\t\t      pod2man\n",
            " debconf-copydb\t\t\t      pod2text\n",
            " debconf-escape\t\t\t      pod2usage\n",
            " debconf-set-selections\t\t      podchecker\n",
            " debconf-show\t\t\t      podselect\n",
            " deb-systemd-helper\t\t      pr\n",
            " deb-systemd-invoke\t\t      preconv\n",
            " delpart\t\t\t      prename\n",
            " derb\t\t\t\t      print\n",
            " designer\t\t\t      printenv\n",
            " df\t\t\t\t      printerbanner\n",
            " dh_autotools-dev_restoreconfig       printf\n",
            " dh_autotools-dev_updateconfig\t      prlimit\n",
            " dh_dkms\t\t\t      protoc\n",
            " dh_numpy3\t\t\t      prove\n",
            " diff\t\t\t\t      prtstat\n",
            " diff3\t\t\t\t      prune\n",
            " diffimg\t\t\t      ps\n",
            " dijkstra\t\t\t      pslog\n",
            " dir\t\t\t\t      pstree\n",
            " dircolors\t\t\t      pstree.x11\n",
            " dirmngr\t\t\t      pt\n",
            " dirmngr-client\t\t\t      ptar\n",
            " dirname\t\t\t      ptardiff\n",
            " dmesg\t\t\t\t      ptargrep\n",
            " dnsdomainname\t\t\t      ptx\n",
            " domainname\t\t\t      pwd\n",
            " dot\t\t\t\t      pwdx\n",
            " dot2gxl\t\t\t      py3clean\n",
            " dot_builtins\t\t\t      py3compile\n",
            " dotty\t\t\t\t      py3versions\n",
            " dpkg\t\t\t\t      pydoc2.7\n",
            " dpkg-architecture\t\t      pydoc3\n",
            " dpkg-buildflags\t\t      pydoc3.8\n",
            " dpkg-buildpackage\t\t      pygettext2.7\n",
            " dpkg-checkbuilddeps\t\t      pygettext3\n",
            " dpkg-deb\t\t\t      pygettext3.8\n",
            " dpkg-distaddfile\t\t      python2.7\n",
            " dpkg-divert\t\t\t      python3\n",
            " dpkg-genbuildinfo\t\t      python3.8\n",
            " dpkg-genchanges\t\t      python3.8-config\n",
            " dpkg-gencontrol\t\t      python3-config\n",
            " dpkg-gensymbols\t\t      qcollectiongenerator\n",
            " dpkg-maintscript-helper\t      qdbus\n",
            " dpkg-mergechangelogs\t\t      qdbuscpp2xml\n",
            " dpkg-name\t\t\t      qdbusviewer\n",
            " dpkg-parsechangelog\t\t      qdbusxml2cpp\n",
            " dpkg-query\t\t\t      qdoc\n",
            " dpkg-scanpackages\t\t      qdoc3\n",
            " dpkg-scansources\t\t      qgltf\n",
            " dpkg-shlibdeps\t\t\t      qhelpconverter\n",
            " dpkg-source\t\t\t      qhelpgenerator\n",
            " dpkg-split\t\t\t      qlalr\n",
            " dpkg-statoverride\t\t      qmake\n",
            " dpkg-trigger\t\t\t      qml\n",
            " dpkg-vendor\t\t\t      qml1plugindump\n",
            " dtplite\t\t\t      qmlbundle\n",
            " du\t\t\t\t      qmlcachegen\n",
            " dumpsexp\t\t\t      qmleasing\n",
            " dwp\t\t\t\t      qmlimportscanner\n",
            " echo\t\t\t\t      qmljs\n",
            " edgepaint\t\t\t      qmllint\n",
            " edit\t\t\t\t      qmlmin\n",
            " editor\t\t\t\t      qmlplugindump\n",
            " egrep\t\t\t\t      qmlprofiler\n",
            " elfedit\t\t\t      qmlscene\n",
            " enc2xs\t\t\t\t      qmltestrunner\n",
            " encguess\t\t\t      qmlviewer\n",
            " env\t\t\t\t      qtattributionsscanner\n",
            " epsg_tr.py\t\t\t      qtchooser\n",
            " eqn\t\t\t\t      qtconfig\n",
            " errno\t\t\t\t      qtdiag\n",
            " esri2wkt.py\t\t\t      qt-faststart\n",
            " ex\t\t\t\t      qtpaths\n",
            " expand\t\t\t\t      qtplugininfo\n",
            " expiry\t\t\t\t      quickbook\n",
            " expr\t\t\t\t      qvkgen\n",
            " f77\t\t\t\t      R\n",
            " f95\t\t\t\t      ranlib\n",
            " factor\t\t\t\t      rbash\n",
            " faillog\t\t\t      rcc\n",
            " fallocate\t\t\t      rcp\n",
            " false\t\t\t\t      rdma\n",
            " fc-cache\t\t\t      readelf\n",
            " fc-cat\t\t\t\t      readlink\n",
            " fc-conflist\t\t\t      realpath\n",
            " fc-list\t\t\t      rename\n",
            " fc-match\t\t\t      rename.ul\n",
            " fc-pattern\t\t\t      renice\n",
            " fc-query\t\t\t      repc\n",
            " fc-scan\t\t\t      reset\n",
            " fc-validate\t\t\t      resizepart\n",
            " fdp\t\t\t\t      resolvectl\n",
            " ffmpeg\t\t\t\t      rev\n",
            " ffplay\t\t\t\t      rgb2pct.py\n",
            " ffprobe\t\t\t      rgrep\n",
            " fgrep\t\t\t\t      rlogin\n",
            " file-rename\t\t\t      rm\n",
            " fincore\t\t\t      rmdir\n",
            " find\t\t\t\t      rmic\n",
            " findmnt\t\t\t      rmid\n",
            " fio\t\t\t\t      rmiregistry\n",
            " fio2gnuplot\t\t\t      routef\n",
            " fio-btrace2fio\t\t\t      routel\n",
            " fio-dedupe\t\t\t      rpcgen\n",
            " fio_generate_plots\t\t      rrsync\n",
            " fio-genzipf\t\t\t      Rscript\n",
            " flock\t\t\t\t      rsh\n",
            " fmt\t\t\t\t      rsync\n",
            " fold\t\t\t\t      rtstat\n",
            " free\t\t\t\t      runcon\n",
            " from\t\t\t\t      run-mailcap\n",
            " funzip\t\t\t\t      run-parts\n",
            " fuser\t\t\t\t      rview\n",
            " fusermount\t\t\t      rvim\n",
            " g++\t\t\t\t      savelog\n",
            " g++-9\t\t\t\t      sccmap\n",
            " gapplication\t\t\t      scp\n",
            " gc\t\t\t\t      script\n",
            " gcc\t\t\t\t      scriptreplay\n",
            " gcc-9\t\t\t\t      sdiff\n",
            " gcc-ar\t\t\t\t      sed\n",
            " gcc-ar-9\t\t\t      see\n",
            " gcc-nm\t\t\t\t      select-default-iwrap\n",
            " gcc-nm-9\t\t\t      select-editor\n",
            " gcc-ranlib\t\t\t      sensible-browser\n",
            " gcc-ranlib-9\t\t\t      sensible-editor\n",
            " gcov\t\t\t\t      sensible-pager\n",
            " gcov-9\t\t\t\t      seq\n",
            " gcov-dump\t\t\t      serialver\n",
            " gcov-dump-9\t\t\t      sessreg\n",
            " gcov-tool\t\t\t      setarch\n",
            " gcov-tool-9\t\t\t      setpriv\n",
            " gcps2vec.py\t\t\t      setsid\n",
            " gcps2wld.py\t\t\t      setterm\n",
            " gcr-viewer\t\t\t      setxkbmap\n",
            " gdal2tiles.py\t\t\t      sfdp\n",
            " gdal2xyz.py\t\t\t      sftp\n",
            " gdaladdo\t\t\t      sg\n",
            " gdal_auth.py\t\t\t      sh\n",
            " gdalbuildvrt\t\t\t      sha1sum\n",
            " gdal_calc.py\t\t\t      sha224sum\n",
            " gdalchksum.py\t\t\t      sha256sum\n",
            " gdalcompare.py\t\t\t      sha384sum\n",
            " gdal-config\t\t\t      sha512sum\n",
            " gdal_contour\t\t\t      shasum\n",
            " gdaldem\t\t\t      showrgb\n",
            " gdal_edit.py\t\t\t      shred\n",
            " gdalenhance\t\t\t      shuf\n",
            " gdal_fillnodata.py\t\t      size\n",
            " gdal_grid\t\t\t      skill\n",
            " gdalident.py\t\t\t      slabtop\n",
            " gdalimport.py\t\t\t      sleep\n",
            " gdalinfo\t\t\t      slogin\n",
            " gdallocationinfo\t\t      snice\n",
            " gdalmanage\t\t\t      soelim\n",
            " gdal_merge.py\t\t\t      sort\n",
            " gdalmove.py\t\t\t      sort-dctrl\n",
            " gdal_pansharpen.py\t\t      sotruss\n",
            " gdal_polygonize.py\t\t      splain\n",
            " gdal_proximity.py\t\t      split\n",
            " gdal_rasterize\t\t\t      sponge\n",
            " gdal_retile.py\t\t\t      sprof\n",
            " gdalserver\t\t\t      ss\n",
            " gdal_sieve.py\t\t\t      ssh\n",
            " gdalsrsinfo\t\t\t      ssh-add\n",
            " gdaltindex\t\t\t      ssh-agent\n",
            " gdaltransform\t\t\t      ssh-argv0\n",
            " gdal_translate\t\t\t      ssh-copy-id\n",
            " gdalwarp\t\t\t      ssh-keygen\n",
            " gdbus\t\t\t\t      ssh-keyscan\n",
            " gdialog\t\t\t      stat\n",
            " gdmflexiserver\t\t\t      stdbuf\n",
            " genbrk\t\t\t\t      strings\n",
            " gencat\t\t\t\t      strip\n",
            " gencfu\t\t\t\t      stty\n",
            " gencnval\t\t\t      su\n",
            " gendict\t\t\t      sudo\n",
            " genfio\t\t\t\t      sudoedit\n",
            " genrb\t\t\t\t      sudoreplay\n",
            " geos-config\t\t\t      sum\n",
            " geqn\t\t\t\t      symcryptrun\n",
            " getconf\t\t\t      sync\n",
            " getent\t\t\t\t      systemctl\n",
            " getopt\t\t\t\t      systemd\n",
            " gfortran\t\t\t      systemd-analyze\n",
            " gfortran-9\t\t\t      systemd-ask-password\n",
            " gio\t\t\t\t      systemd-cat\n",
            " gio-querymodules\t\t      systemd-cgls\n",
            " git\t\t\t\t      systemd-cgtop\n",
            " git-lfs\t\t\t      systemd-delta\n",
            " git-receive-pack\t\t      systemd-detect-virt\n",
            " git-shell\t\t\t      systemd-escape\n",
            " git-upload-archive\t\t      systemd-hwdb\n",
            " git-upload-pack\t\t      systemd-id128\n",
            " gjs\t\t\t\t      systemd-inhibit\n",
            " gjs-console\t\t\t      systemd-machine-id-setup\n",
            " glib-compile-schemas\t\t      systemd-mount\n",
            " gml2gv\t\t\t\t      systemd-notify\n",
            " gnmanalyse\t\t\t      systemd-path\n",
            " gnmmanage\t\t\t      systemd-resolve\n",
            " gnome-extensions\t\t      systemd-run\n",
            " gnome-keyring\t\t\t      systemd-socket-activate\n",
            " gnome-keyring-3\t\t      systemd-stdio-bridge\n",
            " gnome-keyring-daemon\t\t      systemd-sysusers\n",
            " gnome-shell\t\t\t      systemd-tmpfiles\n",
            " gnome-shell-extension-tool\t      systemd-tty-ask-password-agent\n",
            " gnome-shell-perf-tool\t\t      systemd-umount\n",
            " gold\t\t\t\t      tabs\n",
            " google-pprof\t\t\t      tac\n",
            " gpasswd\t\t\t      tail\n",
            " gpg\t\t\t\t      tar\n",
            " gpg2\t\t\t\t      taskset\n",
            " gpg-agent\t\t\t      tbl\n",
            " gpgcompose\t\t\t      tbl-dctrl\n",
            " gpgconf\t\t\t      tcldocstrip\n",
            " gpg-connect-agent\t\t      tclsh\n",
            " gpg-error-config\t\t      tclsh8.6\n",
            " gpgparsemail\t\t\t      tcltk-depends\n",
            " gpgrt-config\t\t\t      tee\n",
            " gpgsm\t\t\t\t      tempfile\n",
            " gpgsplit\t\t\t      test\n",
            " gpgtar\t\t\t\t      testepsg\n",
            " gpgv\t\t\t\t      tic\n",
            " gpg-wks-server\t\t\t      timedatectl\n",
            " gpg-zip\t\t\t      timeout\n",
            " gpic\t\t\t\t      tload\n",
            " gprof\t\t\t\t      tmux\n",
            " graphml2gv\t\t\t      toe\n",
            " grep\t\t\t\t      top\n",
            " grep-aptavail\t\t\t      touch\n",
            " grep-available\t\t\t      tput\n",
            " grep-dctrl\t\t\t      tr\n",
            " grep-debtags\t\t\t      tred\n",
            " grep-status\t\t\t      troff\n",
            " gresource\t\t\t      true\n",
            " groff\t\t\t\t      truncate\n",
            " grog\t\t\t\t      trust\n",
            " grops\t\t\t\t      ts\n",
            " grotty\t\t\t\t      tset\n",
            " groups\t\t\t\t      tsort\n",
            " gsettings\t\t\t      tty\n",
            " gtbl\t\t\t\t      twopi\n",
            " gtf\t\t\t\t      tzselect\n",
            " gtk-update-icon-cache\t\t      ucf\n",
            " gunzip\t\t\t\t      ucfq\n",
            " gv2gml\t\t\t\t      ucfr\n",
            " gv2gxl\t\t\t\t      uconv\n",
            " gvcolor\t\t\t      udevadm\n",
            " gvgen\t\t\t\t      uic\n",
            " gvmap\t\t\t\t      uic3\n",
            " gvmap.sh\t\t\t      ul\n",
            " gvpack\t\t\t\t      ulockmgr_server\n",
            " gvpr\t\t\t\t      umount\n",
            " gxl2dot\t\t\t      uname\n",
            " gxl2gv\t\t\t\t      uncompress\n",
            " gzexe\t\t\t\t      unexpand\n",
            " gzip\t\t\t\t      unflatten\n",
            " h2ph\t\t\t\t      uniq\n",
            " h2xs\t\t\t\t      unlink\n",
            " h5c++\t\t\t\t      unlzma\n",
            " h5cc\t\t\t\t      unpack200\n",
            " h5fc\t\t\t\t      unrar\n",
            " hd\t\t\t\t      unrar-nonfree\n",
            " head\t\t\t\t      unshare\n",
            " helpztags\t\t\t      unxz\n",
            " hexdump\t\t\t      unzip\n",
            " hmac256\t\t\t      unzipsfx\n",
            " hostid\t\t\t\t      update-alternatives\n",
            " hostname\t\t\t      update-mime-database\n",
            " hostnamectl\t\t\t      uptime\n",
            " i386\t\t\t\t      users\n",
            " iceauth\t\t\t      utmpdump\n",
            " iconv\t\t\t\t      vdir\n",
            " icuinfo\t\t\t      vi\n",
            " id\t\t\t\t      vidir\n",
            " ifdata\t\t\t\t      view\n",
            " ifnames\t\t\t      vim\n",
            " ifne\t\t\t\t      vim.basic\n",
            " infocmp\t\t\t      vimdiff\n",
            " infotocap\t\t\t      vimdot\n",
            " inspect\t\t\t      vimtutor\n",
            " install\t\t\t      vipe\n",
            " instmodsh\t\t\t      vmstat\n",
            " ionice\t\t\t\t      w\n",
            " ip\t\t\t\t      wall\n",
            " ipcmk\t\t\t\t      watch\n",
            " ipcrm\t\t\t\t      watchgnupg\n",
            " ipcs\t\t\t\t      wc\n",
            " ischroot\t\t\t      wdctl\n",
            " ispell-wrapper\t\t\t      wget\n",
            " isutf8\t\t\t\t      whatis\n",
            " jaotc\t\t\t\t      whereis\n",
            " jar\t\t\t\t      which\n",
            " jarsigner\t\t\t      who\n",
            " java\t\t\t\t      whoami\n",
            " javac\t\t\t\t      wish\n",
            " javadoc\t\t\t      wish8.6\n",
            " javap\t\t\t\t      w.procps\n",
            " jcmd\t\t\t\t      write\n",
            " jdb\t\t\t\t      X\n",
            " jdeprscan\t\t\t      X11\n",
            " jdeps\t\t\t\t      x86_64\n",
            " jexec\t\t\t\t      x86_64-linux-gnu-addr2line\n",
            " jfr\t\t\t\t      x86_64-linux-gnu-ar\n",
            " jhsdb\t\t\t\t      x86_64-linux-gnu-as\n",
            " jimage\t\t\t\t      x86_64-linux-gnu-c++filt\n",
            " jinfo\t\t\t\t      x86_64-linux-gnu-cpp\n",
            " jjs\t\t\t\t      x86_64-linux-gnu-cpp-9\n",
            " jlink\t\t\t\t      x86_64-linux-gnu-dwp\n",
            " jmap\t\t\t\t      x86_64-linux-gnu-elfedit\n",
            " jmod\t\t\t\t      x86_64-linux-gnu-g++\n",
            " join\t\t\t\t      x86_64-linux-gnu-g++-9\n",
            " join-dctrl\t\t\t      x86_64-linux-gnu-gcc\n",
            " journalctl\t\t\t      x86_64-linux-gnu-gcc-9\n",
            " jps\t\t\t\t      x86_64-linux-gnu-gcc-ar\n",
            " jrunscript\t\t\t      x86_64-linux-gnu-gcc-ar-9\n",
            " jshell\t\t\t\t      x86_64-linux-gnu-gcc-nm\n",
            " json_pp\t\t\t      x86_64-linux-gnu-gcc-nm-9\n",
            " jstack\t\t\t\t      x86_64-linux-gnu-gcc-ranlib\n",
            " jstat\t\t\t\t      x86_64-linux-gnu-gcc-ranlib-9\n",
            " jstatd\t\t\t\t      x86_64-linux-gnu-gcov\n",
            " kbxutil\t\t\t      x86_64-linux-gnu-gcov-9\n",
            " kernel-install\t\t\t      x86_64-linux-gnu-gcov-dump\n",
            " keytool\t\t\t      x86_64-linux-gnu-gcov-dump-9\n",
            " kill\t\t\t\t      x86_64-linux-gnu-gcov-tool\n",
            " killall\t\t\t      x86_64-linux-gnu-gcov-tool-9\n",
            " kmod\t\t\t\t      x86_64-linux-gnu-gfortran\n",
            " krb5-config\t\t\t      x86_64-linux-gnu-gfortran-9\n",
            " krb5-config.mit\t\t      x86_64-linux-gnu-gold\n",
            " last\t\t\t\t      x86_64-linux-gnu-gprof\n",
            " lastb\t\t\t\t      x86_64-linux-gnu-ld\n",
            " lastlog\t\t\t      x86_64-linux-gnu-ld.bfd\n",
            " lcf\t\t\t\t      x86_64-linux-gnu-ld.gold\n",
            " lckdo\t\t\t\t      x86_64-linux-gnu-nm\n",
            " lconvert\t\t\t      x86_64-linux-gnu-objcopy\n",
            " ld\t\t\t\t      x86_64-linux-gnu-objdump\n",
            " ld.bfd\t\t\t\t      x86_64-linux-gnu-pkg-config\n",
            " ldd\t\t\t\t      x86_64-linux-gnu-python3.8-config\n",
            " ld.gold\t\t\t      x86_64-linux-gnu-python3-config\n",
            " lefty\t\t\t\t      x86_64-linux-gnu-qmake\n",
            " less\t\t\t\t      x86_64-linux-gnu-ranlib\n",
            " lessecho\t\t\t      x86_64-linux-gnu-readelf\n",
            " lessfile\t\t\t      x86_64-linux-gnu-size\n",
            " lesskey\t\t\t      x86_64-linux-gnu-strings\n",
            " lesspipe\t\t\t      x86_64-linux-gnu-strip\n",
            " lexgrog\t\t\t      x86_64-pc-linux-gnu-pkg-config\n",
            " libgcrypt-config\t\t      xargs\n",
            " libnetcfg\t\t\t      xauth\n",
            " libpng16-config\t\t      xcmsdb\n",
            " libpng-config\t\t\t      xdg-dbus-proxy\n",
            " linguist\t\t\t      xdg-desktop-icon\n",
            " link\t\t\t\t      xdg-desktop-menu\n",
            " linux32\t\t\t      xdg-email\n",
            " linux64\t\t\t      xdg-icon-resource\n",
            " ln\t\t\t\t      xdg-mime\n",
            " lneato\t\t\t\t      xdg-open\n",
            " lnstat\t\t\t\t      xdg-screensaver\n",
            " locale\t\t\t\t      xdg-settings\n",
            " locale-check\t\t\t      xgamma\n",
            " localectl\t\t\t      xhost\n",
            " localedef\t\t\t      xkbbell\n",
            " logger\t\t\t\t      xkbcomp\n",
            " login\t\t\t\t      xkbevd\n",
            " loginctl\t\t\t      xkbprint\n",
            " logname\t\t\t      xkbvleds\n",
            " look\t\t\t\t      xkbwatch\n",
            " lorder\t\t\t\t      xkeystone\n",
            " lrelease\t\t\t      xml2-config\n",
            " ls\t\t\t\t      xmlpatterns\n",
            " lsattr\t\t\t\t      xmlpatternsvalidator\n",
            " lsblk\t\t\t\t      xmodmap\n",
            " lsb_release\t\t\t      Xorg\n",
            " lscpu\t\t\t\t      xrandr\n",
            " lsipc\t\t\t\t      xrdb\n",
            " lslocks\t\t\t      xrefresh\n",
            " lslogins\t\t\t      xsel\n",
            " lsmem\t\t\t\t      xset\n",
            " lsmod\t\t\t\t      xsetmode\n",
            " lsns\t\t\t\t      xsetpointer\n",
            " lsof\t\t\t\t      xsetroot\n",
            " lspgpot\t\t\t      xstdcmap\n",
            " lupdate\t\t\t      xsubpp\n",
            " lzcat\t\t\t\t      xvidtune\n",
            " lzcmp\t\t\t\t      x-window-manager\n",
            " lzdiff\t\t\t\t      xxd\n",
            " lzegrep\t\t\t      xz\n",
            " lzfgrep\t\t\t      xzcat\n",
            " lzgrep\t\t\t\t      xzcmp\n",
            " lzless\t\t\t\t      xzdiff\n",
            " lzma\t\t\t\t      xzegrep\n",
            " lzmainfo\t\t\t      xzfgrep\n",
            " lzmore\t\t\t\t      xzgrep\n",
            " m4\t\t\t\t      xzless\n",
            " make\t\t\t\t      xzmore\n",
            " makeconv\t\t\t      yes\n",
            " make-first-existing-target\t      ypdomainname\n",
            " man\t\t\t\t      zcat\n",
            " mandb\t\t\t\t      zcmp\n",
            " manpath\t\t\t      zdiff\n",
            " man.REAL\t\t\t      zdump\n",
            " man-recode\t\t\t      zegrep\n",
            " mawk\t\t\t\t      zenity\n",
            " mcookie\t\t\t      zfgrep\n",
            " md5sum\t\t\t\t      zforce\n",
            " md5sum.textutils\t\t      zgrep\n",
            " mesg\t\t\t\t      zip\n",
            " migrate-pubring-from-classic-gpg     zipcloak\n",
            " mingle\t\t\t\t      zipdetails\n",
            " mispipe\t\t\t      zipgrep\n",
            " mkdir\t\t\t\t      zipinfo\n",
            " mkfifo\t\t\t\t      zipnote\n",
            " mkgraticule.py\t\t\t      zipsplit\n",
            " mknod\t\t\t\t      zless\n",
            " mktemp\t\t\t\t      zmore\n",
            " mm2gv\t\t\t\t      znew\n",
            " moc\t\t\t\t      zrun\n"
          ]
        }
      ]
    },
    {
      "cell_type": "markdown",
      "source": [
        "checking the list of files. CLI commands can be given using ! before the command"
      ],
      "metadata": {
        "id": "E_GiNGJ9FuAW"
      }
    },
    {
      "cell_type": "code",
      "source": [
        "from google.colab import drive\n",
        "drive.mount('/content/drive')"
      ],
      "metadata": {
        "colab": {
          "base_uri": "https://localhost:8080/"
        },
        "id": "z1RWQ1dSkj9f",
        "outputId": "3a584c8f-fea9-4094-f413-bc7f6e3e4573"
      },
      "execution_count": 53,
      "outputs": [
        {
          "output_type": "stream",
          "name": "stdout",
          "text": [
            "Drive already mounted at /content/drive; to attempt to forcibly remount, call drive.mount(\"/content/drive\", force_remount=True).\n"
          ]
        }
      ]
    },
    {
      "cell_type": "markdown",
      "source": [
        "Mounting thr drive"
      ],
      "metadata": {
        "id": "E2Q3MiouF4Mg"
      }
    },
    {
      "cell_type": "code",
      "source": [
        "!ls \"/content/drive/My Drive/Colab Notebooks\""
      ],
      "metadata": {
        "colab": {
          "base_uri": "https://localhost:8080/"
        },
        "id": "1FkWOlNImGhw",
        "outputId": "fa07347c-3745-444d-ea7e-867eeab36d4e"
      },
      "execution_count": 54,
      "outputs": [
        {
          "output_type": "stream",
          "name": "stdout",
          "text": [
            "'Copy of MyFirstColabNotebook.ipynb'   Untitled0.ipynb\t Untitled2.ipynb\n",
            " MyFirstColabNotebook.ipynb\t       Untitled1.ipynb\t Untitled3.ipynb\n"
          ]
        }
      ]
    },
    {
      "cell_type": "markdown",
      "source": [
        "checking the contents of the drive"
      ],
      "metadata": {
        "id": "7M03Cd9LF_Px"
      }
    },
    {
      "cell_type": "code",
      "source": [
        "!python3 \"/content/drive/My Drive/hello.py\""
      ],
      "metadata": {
        "colab": {
          "base_uri": "https://localhost:8080/"
        },
        "id": "NdERik-eABxx",
        "outputId": "194f2a7f-364b-4311-96b9-ecee3729b66b"
      },
      "execution_count": 55,
      "outputs": [
        {
          "output_type": "stream",
          "name": "stdout",
          "text": [
            "hello world\n"
          ]
        }
      ]
    },
    {
      "cell_type": "markdown",
      "source": [
        "Uploaded hello.py to the drive so that I can fetch and run the external file here"
      ],
      "metadata": {
        "id": "XVVXdfOIGBgY"
      }
    },
    {
      "cell_type": "code",
      "source": [
        "import numpy as np\n",
        "from matplotlib import pyplot as plt\n",
        "\n",
        "y = np.random.randn(100)\n",
        "x = [x for x in range(len(y))]\n",
        "\n",
        "plt.plot(x, y, '-')\n",
        "plt.fill_between(x, y, 200, where = (y > 195), facecolor='g', alpha=0.6)\n",
        "\n",
        "plt.title(\"Sample Plot\")\n",
        "plt.show()"
      ],
      "metadata": {
        "colab": {
          "base_uri": "https://localhost:8080/",
          "height": 281
        },
        "id": "3FPclFh1mU1g",
        "outputId": "e3985fab-c2b2-469a-d957-e0d97e4c1c1e"
      },
      "execution_count": 56,
      "outputs": [
        {
          "output_type": "display_data",
          "data": {
            "text/plain": [
              "<Figure size 432x288 with 1 Axes>"
            ],
            "image/png": "[encoded data removed]"
          },
          "metadata": {
            "needs_background": "light"
          }
        }
      ]
    },
    {
      "cell_type": "markdown",
      "source": [
        "created a plot using matplotlib which is a python library that is widely used for data science."
      ],
      "metadata": {
        "id": "0RsT1tRyGwkX"
      }
    },
    {
      "cell_type": "code",
      "source": [
        "import torch"
      ],
      "metadata": {
        "id": "Q1xwSotYsprj"
      },
      "execution_count": 58,
      "outputs": []
    },
    {
      "cell_type": "markdown",
      "source": [
        "improted Torch library. Used for ML and DL."
      ],
      "metadata": {
        "id": "835cCIavG5QC"
      }
    },
    {
      "cell_type": "code",
      "source": [
        "Tensor = torch"
      ],
      "metadata": {
        "id": "ZkwO72eZsus6"
      },
      "execution_count": 59,
      "outputs": []
    },
    {
      "cell_type": "code",
      "source": [
        "a = torch.randn(4)\n",
        "Tensor = torch.cos(a)"
      ],
      "metadata": {
        "id": "67rijwYksxgS"
      },
      "execution_count": 60,
      "outputs": []
    },
    {
      "cell_type": "code",
      "source": [
        "%ldir"
      ],
      "metadata": {
        "colab": {
          "base_uri": "https://localhost:8080/"
        },
        "id": "v74Z7joys55w",
        "outputId": "b5edd6f5-c5b0-4ff1-a74e-aef8cc6fcef2"
      },
      "execution_count": 61,
      "outputs": [
        {
          "output_type": "stream",
          "name": "stdout",
          "text": [
            "drwx------ 6 root 4096 Feb  2 02:29 \u001b[0m\u001b[01;34mdrive\u001b[0m/\n",
            "drwxr-xr-x 3 root 4096 Feb  2 02:28 \u001b[01;34mkeras-mnist-tutorial\u001b[0m/\n",
            "drwxr-xr-x 1 root 4096 Jan 31 14:44 \u001b[01;34msample_data\u001b[0m/\n"
          ]
        }
      ]
    },
    {
      "cell_type": "code",
      "source": [
        "%history"
      ],
      "metadata": {
        "colab": {
          "base_uri": "https://localhost:8080/"
        },
        "id": "1pZ2pcNAs_J4",
        "outputId": "8b9788de-0528-49c4-892e-698b6f16adfe"
      },
      "execution_count": 62,
      "outputs": [
        {
          "output_type": "stream",
          "name": "stdout",
          "text": [
            "import time\n",
            "print(time.ctime())\n",
            "time.sleep(5)\n",
            "print (time.ctime())\n",
            "message = 'A Great Tutorial on Colab by Tutorialspoint!'\n",
            "greeting = !echo -e '$message\\n$message'\n",
            "greeting\n",
            "!wget http://mlr.cs.umass.edu/ml/machine-learning-databases/adult/adult.data -P \"/content/drive/My Drive/app\"\n",
            "import pandas as pd\n",
            "data = pd.read_csv(\"/content/drive/My Drive/app/adult.data.1\")\n",
            "data.head(5)\n",
            "import pandas as pd\n",
            "data = pd.read_csv(\"/content/drive/My Drive/app/adult.data.1\")\n",
            "data.head(5)\n",
            "!git clone https://github.com/wxs/keras-mnist-tutorial.git\n",
            "!ls /bin\n",
            "from google.colab import drive\n",
            "drive.mount('/content/drive')\n",
            "!ls \"/content/drive/My Drive/Colab Notebooks\"\n",
            "Greeting.ipynb hello.py LogisticRegressionCensusData.ipynb LogisticRegressionDigitalOcean.ipynb MyFirstColabNotebook.ipynb SamplePlot.ipynb\n",
            "import numpy as np\n",
            "from matplotlib import pyplot as plt\n",
            "\n",
            "y = np.random.randn(100)\n",
            "x = [x for x in range(len(y))]\n",
            "\n",
            "plt.plot(x, y, '-')\n",
            "plt.fill_between(x, y, 200, where = (y > 195), facecolor='g', alpha=0.6)\n",
            "\n",
            "plt.title(\"Sample Plot\")\n",
            "plt.show()\n",
            "import torch\n",
            "Tensor = torch\n",
            "Tensor = torch.cos()\n",
            "%ldir\n",
            "%history\n",
            "%%html\n",
            "<marquee style='width: 50%; color: Green;'>Welcome to Tutorialspoint!</marquee>\n",
            "%%html\n",
            "<marquee style='width: 50%; color: Green;'>Welcome to Tutorialspoint!</marquee>\n",
            "%%html\n",
            "<svg xmlns=\"https://www.w3.org/2000/svg\" viewBox=\"0 0 600 400\" width=\"400\" height=\"400\">\n",
            "   <rect x=\"10\" y=\"00\" width=\"300\" height=\"100\" rx=\"0\" style=\"fill:orange; stroke:black; fill-opacity:1.0\" />\n",
            "   <rect x=\"10\" y=\"100\" width=\"300\" height=\"100\" rx=\"0\" style=\"fill:white; stroke:black; fill-opacity:1.0;\" />\n",
            "   <rect x=\"10\" y=\"200\" width=\"300\" height=\"100\" rx=\"0\" style=\"fill:green; stroke:black; fill-opacity:1.0;\" />\n",
            "</svg>\n",
            "%lsmagic\n",
            "import time\n",
            "print(time.ctime())\n",
            "time.sleep(5)\n",
            "print (time.ctime())\n",
            "#@title Default title text\n",
            "sleeptime = 5 #@param {type:\"integer\"}\n",
            "import time\n",
            "print(time.ctime())\n",
            "time.sleep(sleeptime)\n",
            "print (time.ctime())\n",
            "name = 'Tutorialspoint' #@param {type:\"string\"}\n",
            "print(name)\n",
            "color = 'green' #@param [\"red\", \"green\", \"blue\"]\n",
            "print(color)\n",
            "#@title Date fields\n",
            "date_input = '2019-06-03' #@param {type:\"date\"}\n",
            "print(date_input)\n",
            "!pip install -q keras\n",
            "!pip3 install torch torchvision\n",
            "!apt install libnvrtc8.0\n",
            "!pip install mxnet-cu80\n",
            "!apt-get -qq install -y libsm6 libxext6 && pip install -q -U opencv-python\n",
            "!pip install -q xgboost==0.4a30\n",
            "!apt-get -qq install -y graphviz && pip install -q pydot\n",
            "!apt-get -qq install -y libsm6 libxext6 && pip install -q -U opencv-python\n",
            "!pip install -q xgboost==0.4a30\n",
            "!apt-get -qq install -y graphviz && pip install -q pydot\n",
            "!python3 \"/content/drive/My Drive/app/mnist_cnn.py\"\n",
            "import tensorflow as tf\n",
            "tf.test.gpu_device_name()\n",
            "'/device:GPU:0'\n",
            "from tensorflow.python.client import device_lib\n",
            "device_lib.list_local_devices()\n",
            "!cat /proc/meminfo\n",
            "hello.py\n",
            "!python3 \"/content/drive/My Drive/Colab Notebooks/hello.py\"\n",
            "!python3 \"/content/drive/My Drive/hello.py\"\n",
            "Tensor = torch.cos(2)\n",
            "a = torch.randn(4)\n",
            "Tensor = torch.cos(a)\n",
            "message = 'A Great Tutorial on Colab by Tutorialspoint!'\n",
            "greeting = echo -e '$message\\n$message'\n",
            "greeting\n",
            "import pandas as pd\n",
            "data = pd.read_csv(\"/content/drive/adult.data\")\n",
            "data.head(5)\n",
            "import pandas as pd\n",
            "data = pd.read_csv(\"/content/drive/My Drive/adult.data\")\n",
            "data.head(5)\n",
            "!git clone https://github.com/wxs/keras-mnist-tutorial.git\n",
            "!git clone https://github.com/wxs/keras-mnist-tutorial.git\n",
            "!ls /bin\n",
            "from google.colab import drive\n",
            "drive.mount('/content/drive')\n",
            "!ls \"/content/drive/My Drive/Colab Notebooks\"\n",
            "!python3 \"/content/drive/My Drive/hello.py\"\n",
            "import numpy as np\n",
            "from matplotlib import pyplot as plt\n",
            "\n",
            "y = np.random.randn(100)\n",
            "x = [x for x in range(len(y))]\n",
            "\n",
            "plt.plot(x, y, '-')\n",
            "plt.fill_between(x, y, 200, where = (y > 195), facecolor='g', alpha=0.6)\n",
            "\n",
            "plt.title(\"Sample Plot\")\n",
            "plt.show()\n",
            "%%html\n",
            "<marquee style='width: 50%; color: Green;'>Welcome to Intoduction to block chain!</marquee>\n",
            "import torch\n",
            "Tensor = torch\n",
            "a = torch.randn(4)\n",
            "Tensor = torch.cos(a)\n",
            "%ldir\n",
            "%history\n"
          ]
        }
      ]
    },
    {
      "cell_type": "markdown",
      "source": [
        "history: all the previous commands used."
      ],
      "metadata": {
        "id": "ZmAFj2BqHAY1"
      }
    },
    {
      "cell_type": "code",
      "source": [
        "%%html\n",
        "<marquee style='width: 50%; color: Green;'>Welcome to Intoduction to block chain!</marquee>"
      ],
      "metadata": {
        "colab": {
          "base_uri": "https://localhost:8080/",
          "height": 39
        },
        "id": "eHARcY4mtBXh",
        "outputId": "cb028987-b7d1-40ac-e728-959011044a48"
      },
      "execution_count": 63,
      "outputs": [
        {
          "output_type": "display_data",
          "data": {
            "text/plain": [
              "<IPython.core.display.HTML object>"
            ],
            "text/html": [
              "<marquee style='width: 50%; color: Green;'>Welcome to Intoduction to block chain!</marquee>\n"
            ]
          },
          "metadata": {}
        }
      ]
    },
    {
      "cell_type": "markdown",
      "source": [
        "We can also use HTML segments here but just like cli commands, %% must be used before HTML tag"
      ],
      "metadata": {
        "id": "E9YSTuXBHJVq"
      }
    },
    {
      "cell_type": "code",
      "source": [
        "%%html\n",
        "<svg xmlns=\"https://www.w3.org/2000/svg\" viewBox=\"0 0 600 400\" width=\"400\" height=\"400\">\n",
        "   <rect x=\"10\" y=\"00\" width=\"300\" height=\"100\" rx=\"0\" style=\"fill:orange; stroke:black; fill-opacity:1.0\" />\n",
        "   <rect x=\"10\" y=\"100\" width=\"300\" height=\"100\" rx=\"0\" style=\"fill:white; stroke:black; fill-opacity:1.0;\" />\n",
        "   <rect x=\"10\" y=\"200\" width=\"300\" height=\"100\" rx=\"0\" style=\"fill:green; stroke:black; fill-opacity:1.0;\" />\n",
        "</svg>"
      ],
      "metadata": {
        "colab": {
          "base_uri": "https://localhost:8080/",
          "height": 421
        },
        "id": "fv1k4ee2tDl4",
        "outputId": "ef82c70b-f632-4453-e6ca-e09ae32fdf60"
      },
      "execution_count": 64,
      "outputs": [
        {
          "output_type": "display_data",
          "data": {
            "text/plain": [
              "<IPython.core.display.HTML object>"
            ],
            "text/html": [
              "<svg xmlns=\"https://www.w3.org/2000/svg\" viewBox=\"0 0 600 400\" width=\"400\" height=\"400\">\n",
              "   <rect x=\"10\" y=\"00\" width=\"300\" height=\"100\" rx=\"0\" style=\"fill:orange; stroke:black; fill-opacity:1.0\" />\n",
              "   <rect x=\"10\" y=\"100\" width=\"300\" height=\"100\" rx=\"0\" style=\"fill:white; stroke:black; fill-opacity:1.0;\" />\n",
              "   <rect x=\"10\" y=\"200\" width=\"300\" height=\"100\" rx=\"0\" style=\"fill:green; stroke:black; fill-opacity:1.0;\" />\n",
              "</svg>\n"
            ]
          },
          "metadata": {}
        }
      ]
    },
    {
      "cell_type": "code",
      "source": [
        "%lsmagic"
      ],
      "metadata": {
        "colab": {
          "base_uri": "https://localhost:8080/",
          "height": 243
        },
        "id": "LioFWtDutGCP",
        "outputId": "ddb678e8-7558-45c7-b741-411f53b2b06c"
      },
      "execution_count": 65,
      "outputs": [
        {
          "output_type": "execute_result",
          "data": {
            "text/plain": [
              "Available line magics:\n",
              "%alias  %alias_magic  %autoawait  %autocall  %automagic  %autosave  %bookmark  %cat  %cd  %clear  %colors  %conda  %config  %connect_info  %cp  %debug  %dhist  %dirs  %doctest_mode  %ed  %edit  %env  %gui  %hist  %history  %killbgscripts  %ldir  %less  %lf  %lk  %ll  %load  %load_ext  %loadpy  %logoff  %logon  %logstart  %logstate  %logstop  %ls  %lsmagic  %lx  %macro  %magic  %man  %matplotlib  %mkdir  %more  %mv  %notebook  %page  %pastebin  %pdb  %pdef  %pdoc  %pfile  %pinfo  %pinfo2  %pip  %popd  %pprint  %precision  %prun  %psearch  %psource  %pushd  %pwd  %pycat  %pylab  %qtconsole  %quickref  %recall  %rehashx  %reload_ext  %rep  %rerun  %reset  %reset_selective  %rm  %rmdir  %run  %save  %sc  %set_env  %shell  %store  %sx  %system  %tb  %tensorflow_version  %time  %timeit  %unalias  %unload_ext  %who  %who_ls  %whos  %xdel  %xmode\n",
              "\n",
              "Available cell magics:\n",
              "%%!  %%HTML  %%SVG  %%bash  %%bigquery  %%capture  %%debug  %%file  %%html  %%javascript  %%js  %%latex  %%markdown  %%perl  %%prun  %%pypy  %%python  %%python2  %%python3  %%ruby  %%script  %%sh  %%shell  %%svg  %%sx  %%system  %%time  %%timeit  %%writefile\n",
              "\n",
              "Automagic is ON, % prefix IS NOT needed for line magics."
            ],
            "application/json": {
              "line": {
                "automagic": "AutoMagics",
                "autocall": "AutoMagics",
                "alias_magic": "BasicMagics",
                "lsmagic": "BasicMagics",
                "magic": "BasicMagics",
                "page": "BasicMagics",
                "pprint": "BasicMagics",
                "colors": "BasicMagics",
                "xmode": "BasicMagics",
                "quickref": "BasicMagics",
                "doctest_mode": "BasicMagics",
                "gui": "BasicMagics",
                "precision": "BasicMagics",
                "notebook": "BasicMagics",
                "save": "CodeMagics",
                "pastebin": "CodeMagics",
                "loadpy": "CodeMagics",
                "load": "CodeMagics",
                "edit": "KernelMagics",
                "config": "ConfigMagics",
                "prun": "ExecutionMagics",
                "pdb": "ExecutionMagics",
                "debug": "ExecutionMagics",
                "tb": "ExecutionMagics",
                "run": "ExecutionMagics",
                "timeit": "ExecutionMagics",
                "time": "ExecutionMagics",
                "macro": "ExecutionMagics",
                "load_ext": "ExtensionMagics",
                "unload_ext": "ExtensionMagics",
                "reload_ext": "ExtensionMagics",
                "history": "HistoryMagics",
                "recall": "HistoryMagics",
                "rerun": "HistoryMagics",
                "logstart": "LoggingMagics",
                "logstop": "LoggingMagics",
                "logoff": "LoggingMagics",
                "logon": "LoggingMagics",
                "logstate": "LoggingMagics",
                "pinfo": "NamespaceMagics",
                "pinfo2": "NamespaceMagics",
                "pdef": "NamespaceMagics",
                "pdoc": "NamespaceMagics",
                "psource": "NamespaceMagics",
                "pfile": "NamespaceMagics",
                "psearch": "NamespaceMagics",
                "who_ls": "NamespaceMagics",
                "who": "NamespaceMagics",
                "whos": "NamespaceMagics",
                "reset": "NamespaceMagics",
                "reset_selective": "NamespaceMagics",
                "xdel": "NamespaceMagics",
                "alias": "OSMagics",
                "unalias": "OSMagics",
                "rehashx": "OSMagics",
                "pwd": "OSMagics",
                "cd": "OSMagics",
                "env": "OSMagics",
                "set_env": "OSMagics",
                "pushd": "OSMagics",
                "popd": "OSMagics",
                "dirs": "OSMagics",
                "dhist": "OSMagics",
                "sc": "OSMagics",
                "sx": "OSMagics",
                "system": "OSMagics",
                "bookmark": "OSMagics",
                "pycat": "OSMagics",
                "pip": "Other",
                "conda": "PackagingMagics",
                "matplotlib": "PylabMagics",
                "pylab": "PylabMagics",
                "killbgscripts": "ScriptMagics",
                "autoawait": "AsyncMagics",
                "ed": "Other",
                "hist": "Other",
                "rep": "Other",
                "clear": "KernelMagics",
                "less": "KernelMagics",
                "more": "KernelMagics",
                "man": "KernelMagics",
                "connect_info": "KernelMagics",
                "qtconsole": "KernelMagics",
                "autosave": "KernelMagics",
                "mkdir": "Other",
                "rmdir": "Other",
                "mv": "Other",
                "rm": "Other",
                "cp": "Other",
                "cat": "Other",
                "ls": "Other",
                "ll": "Other",
                "lf": "Other",
                "lk": "Other",
                "ldir": "Other",
                "lx": "Other",
                "store": "StoreMagics",
                "shell": "Other",
                "tensorflow_version": "Other"
              },
              "cell": {
                "js": "DisplayMagics",
                "javascript": "DisplayMagics",
                "latex": "DisplayMagics",
                "svg": "DisplayMagics",
                "html": "DisplayMagics",
                "markdown": "DisplayMagics",
                "prun": "ExecutionMagics",
                "debug": "ExecutionMagics",
                "timeit": "ExecutionMagics",
                "time": "ExecutionMagics",
                "capture": "ExecutionMagics",
                "sx": "OSMagics",
                "system": "OSMagics",
                "!": "OSMagics",
                "writefile": "OSMagics",
                "script": "ScriptMagics",
                "sh": "Other",
                "bash": "Other",
                "perl": "Other",
                "ruby": "Other",
                "python": "Other",
                "python2": "Other",
                "python3": "Other",
                "pypy": "Other",
                "SVG": "Other",
                "HTML": "Other",
                "file": "Other",
                "bigquery": "Other",
                "shell": "Other"
              }
            }
          },
          "metadata": {},
          "execution_count": 65
        }
      ]
    },
    {
      "cell_type": "code",
      "source": [
        "import time\n",
        "print(time.ctime())\n",
        "time.sleep(5)\n",
        "print (time.ctime())"
      ],
      "metadata": {
        "colab": {
          "base_uri": "https://localhost:8080/"
        },
        "id": "uVmzwiDItIav",
        "outputId": "bc6404fc-8685-42fc-d7ba-059d8718627f"
      },
      "execution_count": 66,
      "outputs": [
        {
          "output_type": "stream",
          "name": "stdout",
          "text": [
            "Thu Feb  2 03:15:32 2023\n",
            "Thu Feb  2 03:15:37 2023\n"
          ]
        }
      ]
    },
    {
      "cell_type": "code",
      "source": [
        "#@title Default title text\n",
        "sleeptime = 5 #@param {type:\"integer\"}\n"
      ],
      "metadata": {
        "id": "-qZgXOfftOx3"
      },
      "execution_count": 67,
      "outputs": []
    },
    {
      "cell_type": "code",
      "source": [
        "import time\n",
        "print(time.ctime())\n",
        "time.sleep(sleeptime)\n",
        "print (time.ctime())"
      ],
      "metadata": {
        "colab": {
          "base_uri": "https://localhost:8080/"
        },
        "id": "s6FP4unvtw8u",
        "outputId": "44ce7d34-3570-4884-f85d-0ef6ceee618c"
      },
      "execution_count": 68,
      "outputs": [
        {
          "output_type": "stream",
          "name": "stdout",
          "text": [
            "Thu Feb  2 03:15:37 2023\n",
            "Thu Feb  2 03:15:42 2023\n"
          ]
        }
      ]
    },
    {
      "cell_type": "code",
      "source": [
        "name = 'Aravind Chilakamarri' #@param {type:\"string\"}\n",
        "print(name)"
      ],
      "metadata": {
        "colab": {
          "base_uri": "https://localhost:8080/"
        },
        "id": "U7tVDc5Vt7VF",
        "outputId": "b2c3111b-9648-4f73-8edf-bce82830888d"
      },
      "execution_count": 69,
      "outputs": [
        {
          "output_type": "stream",
          "name": "stdout",
          "text": [
            "Aravind Chilakamarri\n"
          ]
        }
      ]
    },
    {
      "cell_type": "code",
      "source": [
        "color = 'green' #@param [\"red\", \"green\", \"blue\"]\n",
        "print(color)"
      ],
      "metadata": {
        "colab": {
          "base_uri": "https://localhost:8080/"
        },
        "id": "WmotyQmMuJrE",
        "outputId": "3baf1866-d0cf-47bc-f365-e9f4fc16adbe"
      },
      "execution_count": 70,
      "outputs": [
        {
          "output_type": "stream",
          "name": "stdout",
          "text": [
            "green\n"
          ]
        }
      ]
    },
    {
      "cell_type": "code",
      "source": [
        "#@title Date fields\n",
        "date_input = '2019-06-03' #@param {type:\"date\"}\n",
        "print(date_input)"
      ],
      "metadata": {
        "colab": {
          "base_uri": "https://localhost:8080/"
        },
        "id": "9n4ShuKZuLhc",
        "outputId": "ea276104-513f-4045-9292-9348403c5d8e"
      },
      "execution_count": 71,
      "outputs": [
        {
          "output_type": "stream",
          "name": "stdout",
          "text": [
            "2019-06-03\n"
          ]
        }
      ]
    },
    {
      "cell_type": "markdown",
      "source": [
        "Below are the commands to install all the machine learning and deep learning libraries"
      ],
      "metadata": {
        "id": "BEvy_wKaHYk-"
      }
    },
    {
      "cell_type": "code",
      "source": [
        "!pip install -q keras"
      ],
      "metadata": {
        "id": "jbPWZl5kuQ-a"
      },
      "execution_count": 72,
      "outputs": []
    },
    {
      "cell_type": "code",
      "source": [
        "!pip3 install torch torchvision"
      ],
      "metadata": {
        "colab": {
          "base_uri": "https://localhost:8080/"
        },
        "id": "9yaVQoBNuWz7",
        "outputId": "21695d14-8489-4979-f59f-580a877a5f7e"
      },
      "execution_count": 73,
      "outputs": [
        {
          "output_type": "stream",
          "name": "stdout",
          "text": [
            "Looking in indexes: https://pypi.org/simple, https://us-python.pkg.dev/colab-wheels/public/simple/\n",
            "Requirement already satisfied: torch in /usr/local/lib/python3.8/dist-packages (1.13.1+cu116)\n",
            "Requirement already satisfied: torchvision in /usr/local/lib/python3.8/dist-packages (0.14.1+cu116)\n",
            "Requirement already satisfied: typing-extensions in /usr/local/lib/python3.8/dist-packages (from torch) (4.4.0)\n",
            "Requirement already satisfied: requests in /usr/local/lib/python3.8/dist-packages (from torchvision) (2.25.1)\n",
            "Requirement already satisfied: pillow!=8.3.*,>=5.3.0 in /usr/local/lib/python3.8/dist-packages (from torchvision) (7.1.2)\n",
            "Requirement already satisfied: numpy in /usr/local/lib/python3.8/dist-packages (from torchvision) (1.21.6)\n",
            "Requirement already satisfied: idna<3,>=2.5 in /usr/local/lib/python3.8/dist-packages (from requests->torchvision) (2.10)\n",
            "Requirement already satisfied: urllib3<1.27,>=1.21.1 in /usr/local/lib/python3.8/dist-packages (from requests->torchvision) (1.24.3)\n",
            "Requirement already satisfied: chardet<5,>=3.0.2 in /usr/local/lib/python3.8/dist-packages (from requests->torchvision) (4.0.0)\n",
            "Requirement already satisfied: certifi>=2017.4.17 in /usr/local/lib/python3.8/dist-packages (from requests->torchvision) (2022.12.7)\n"
          ]
        }
      ]
    },
    {
      "cell_type": "code",
      "source": [
        "!apt install libnvrtc8.0\n",
        "!pip install mxnet-cu80"
      ],
      "metadata": {
        "colab": {
          "base_uri": "https://localhost:8080/"
        },
        "id": "prY1qBlKuZEK",
        "outputId": "761517e6-6d40-4b86-8e1f-0cf5fab12e6e"
      },
      "execution_count": 74,
      "outputs": [
        {
          "output_type": "stream",
          "name": "stdout",
          "text": [
            "Reading package lists... Done\n",
            "Building dependency tree       \n",
            "Reading state information... Done\n",
            "\u001b[1;31mE: \u001b[0mUnable to locate package libnvrtc8.0\u001b[0m\n",
            "\u001b[1;31mE: \u001b[0mCouldn't find any package by glob 'libnvrtc8.0'\u001b[0m\n",
            "Looking in indexes: https://pypi.org/simple, https://us-python.pkg.dev/colab-wheels/public/simple/\n",
            "Requirement already satisfied: mxnet-cu80 in /usr/local/lib/python3.8/dist-packages (1.5.0)\n",
            "Requirement already satisfied: numpy<2.0.0,>1.16.0 in /usr/local/lib/python3.8/dist-packages (from mxnet-cu80) (1.21.6)\n",
            "Requirement already satisfied: graphviz<0.9.0,>=0.8.1 in /usr/local/lib/python3.8/dist-packages (from mxnet-cu80) (0.8.4)\n",
            "Requirement already satisfied: requests<3,>=2.20.0 in /usr/local/lib/python3.8/dist-packages (from mxnet-cu80) (2.25.1)\n",
            "Requirement already satisfied: certifi>=2017.4.17 in /usr/local/lib/python3.8/dist-packages (from requests<3,>=2.20.0->mxnet-cu80) (2022.12.7)\n",
            "Requirement already satisfied: urllib3<1.27,>=1.21.1 in /usr/local/lib/python3.8/dist-packages (from requests<3,>=2.20.0->mxnet-cu80) (1.24.3)\n",
            "Requirement already satisfied: chardet<5,>=3.0.2 in /usr/local/lib/python3.8/dist-packages (from requests<3,>=2.20.0->mxnet-cu80) (4.0.0)\n",
            "Requirement already satisfied: idna<3,>=2.5 in /usr/local/lib/python3.8/dist-packages (from requests<3,>=2.20.0->mxnet-cu80) (2.10)\n"
          ]
        }
      ]
    },
    {
      "cell_type": "code",
      "source": [
        "!apt-get -qq install -y libsm6 libxext6 && pip install -q -U opencv-python"
      ],
      "metadata": {
        "id": "gz7br4EQua9C"
      },
      "execution_count": 75,
      "outputs": []
    },
    {
      "cell_type": "code",
      "source": [
        "!pip install -q xgboost==0.4a30"
      ],
      "metadata": {
        "colab": {
          "base_uri": "https://localhost:8080/"
        },
        "id": "75_NUc0kupKy",
        "outputId": "4df14f62-fb6e-4c1f-d026-9679bed81051"
      },
      "execution_count": 78,
      "outputs": [
        {
          "output_type": "stream",
          "name": "stdout",
          "text": [
            "  \u001b[1;31merror\u001b[0m: \u001b[1msubprocess-exited-with-error\u001b[0m\n",
            "  \n",
            "  \u001b[31m×\u001b[0m \u001b[32mpython setup.py egg_info\u001b[0m did not run successfully.\n",
            "  \u001b[31m│\u001b[0m exit code: \u001b[1;36m1\u001b[0m\n",
            "  \u001b[31m╰─>\u001b[0m See above for output.\n",
            "  \n",
            "  \u001b[1;35mnote\u001b[0m: This error originates from a subprocess, and is likely not a problem with pip.\n",
            "  Preparing metadata (setup.py) ... \u001b[?25l\u001b[?25herror\n",
            "\u001b[1;31merror\u001b[0m: \u001b[1mmetadata-generation-failed\u001b[0m\n",
            "\n",
            "\u001b[31m×\u001b[0m Encountered error while generating package metadata.\n",
            "\u001b[31m╰─>\u001b[0m See above for output.\n",
            "\n",
            "\u001b[1;35mnote\u001b[0m: This is an issue with the package mentioned above, not pip.\n",
            "\u001b[1;36mhint\u001b[0m: See above for details.\n"
          ]
        }
      ]
    },
    {
      "cell_type": "code",
      "source": [
        "!apt-get -qq install -y graphviz && pip install -q pydot"
      ],
      "metadata": {
        "id": "9nT-XxZHurw6"
      },
      "execution_count": 77,
      "outputs": []
    },
    {
      "cell_type": "code",
      "source": [
        "import tensorflow as tf\n",
        "tf.test.gpu_device_name()"
      ],
      "metadata": {
        "colab": {
          "base_uri": "https://localhost:8080/",
          "height": 35
        },
        "id": "eATetsLi-40p",
        "outputId": "d1406c9e-82d7-42e0-f07a-2cacc9c9784e"
      },
      "execution_count": 38,
      "outputs": [
        {
          "output_type": "execute_result",
          "data": {
            "text/plain": [
              "'/device:GPU:0'"
            ],
            "application/vnd.google.colaboratory.intrinsic+json": {
              "type": "string"
            }
          },
          "metadata": {},
          "execution_count": 38
        }
      ]
    },
    {
      "cell_type": "code",
      "source": [
        "'/device:GPU:0'"
      ],
      "metadata": {
        "colab": {
          "base_uri": "https://localhost:8080/",
          "height": 35
        },
        "id": "0OXVTGr0-8H7",
        "outputId": "24dfa852-fa33-4059-bcb5-2b042978b335"
      },
      "execution_count": 39,
      "outputs": [
        {
          "output_type": "execute_result",
          "data": {
            "text/plain": [
              "'/device:GPU:0'"
            ],
            "application/vnd.google.colaboratory.intrinsic+json": {
              "type": "string"
            }
          },
          "metadata": {},
          "execution_count": 39
        }
      ]
    },
    {
      "cell_type": "code",
      "source": [
        "from tensorflow.python.client import device_lib\n",
        "device_lib.list_local_devices()"
      ],
      "metadata": {
        "colab": {
          "base_uri": "https://localhost:8080/"
        },
        "id": "8lWMcLne-_sP",
        "outputId": "4569d3e6-ee47-42e7-a35d-eed3c0e35090"
      },
      "execution_count": 40,
      "outputs": [
        {
          "output_type": "execute_result",
          "data": {
            "text/plain": [
              "[name: \"/device:CPU:0\"\n",
              " device_type: \"CPU\"\n",
              " memory_limit: 268435456\n",
              " locality {\n",
              " }\n",
              " incarnation: 14643815029221485208\n",
              " xla_global_id: -1, name: \"/device:GPU:0\"\n",
              " device_type: \"GPU\"\n",
              " memory_limit: 13929152512\n",
              " locality {\n",
              "   bus_id: 1\n",
              "   links {\n",
              "   }\n",
              " }\n",
              " incarnation: 5493959889247855996\n",
              " physical_device_desc: \"device: 0, name: Tesla T4, pci bus id: 0000:00:04.0, compute capability: 7.5\"\n",
              " xla_global_id: 416903419]"
            ]
          },
          "metadata": {},
          "execution_count": 40
        }
      ]
    },
    {
      "cell_type": "code",
      "source": [
        "!cat /proc/meminfo"
      ],
      "metadata": {
        "colab": {
          "base_uri": "https://localhost:8080/"
        },
        "id": "6FNdp_-R_CrP",
        "outputId": "1921ce73-5adc-4e3a-943d-4eaa73149b3e"
      },
      "execution_count": 41,
      "outputs": [
        {
          "output_type": "stream",
          "name": "stdout",
          "text": [
            "MemTotal:       13297200 kB\n",
            "MemFree:         1299788 kB\n",
            "MemAvailable:    9903572 kB\n",
            "Buffers:          349996 kB\n",
            "Cached:          8332056 kB\n",
            "SwapCached:            0 kB\n",
            "Active:           810640 kB\n",
            "Inactive:       10682420 kB\n",
            "Active(anon):        972 kB\n",
            "Inactive(anon):  2795040 kB\n",
            "Active(file):     809668 kB\n",
            "Inactive(file):  7887380 kB\n",
            "Unevictable:           0 kB\n",
            "Mlocked:               0 kB\n",
            "SwapTotal:             0 kB\n",
            "SwapFree:              0 kB\n",
            "Dirty:               532 kB\n",
            "Writeback:             0 kB\n",
            "AnonPages:       2811004 kB\n",
            "Mapped:           998428 kB\n",
            "Shmem:             13580 kB\n",
            "KReclaimable:     232660 kB\n",
            "Slab:             280128 kB\n",
            "SReclaimable:     232660 kB\n",
            "SUnreclaim:        47468 kB\n",
            "KernelStack:        5600 kB\n",
            "PageTables:        26836 kB\n",
            "NFS_Unstable:          0 kB\n",
            "Bounce:                0 kB\n",
            "WritebackTmp:          0 kB\n",
            "CommitLimit:     6648600 kB\n",
            "Committed_AS:    5419336 kB\n",
            "VmallocTotal:   34359738367 kB\n",
            "VmallocUsed:       59332 kB\n",
            "VmallocChunk:          0 kB\n",
            "Percpu:             1336 kB\n",
            "HardwareCorrupted:     0 kB\n",
            "AnonHugePages:         0 kB\n",
            "ShmemHugePages:        0 kB\n",
            "ShmemPmdMapped:        0 kB\n",
            "FileHugePages:         0 kB\n",
            "FilePmdMapped:         0 kB\n",
            "CmaTotal:              0 kB\n",
            "CmaFree:               0 kB\n",
            "HugePages_Total:       0\n",
            "HugePages_Free:        0\n",
            "HugePages_Rsvd:        0\n",
            "HugePages_Surp:        0\n",
            "Hugepagesize:       2048 kB\n",
            "Hugetlb:               0 kB\n",
            "DirectMap4k:      338752 kB\n",
            "DirectMap2M:    11192320 kB\n",
            "DirectMap1G:     4194304 kB\n"
          ]
        }
      ]
    },
    {
      "cell_type": "code",
      "source": [],
      "metadata": {
        "id": "YFAtPNgN_GXP"
      },
      "execution_count": null,
      "outputs": []
    }
  ]
}